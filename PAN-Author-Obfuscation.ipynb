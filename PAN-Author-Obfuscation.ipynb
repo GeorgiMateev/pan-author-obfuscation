{
 "cells": [
  {
   "cell_type": "markdown",
   "metadata": {},
   "source": [
    "#### How to install package ####"
   ]
  },
  {
   "cell_type": "code",
   "execution_count": 43,
   "metadata": {
    "collapsed": false
   },
   "outputs": [
    {
     "name": "stdout",
     "output_type": "stream",
     "text": [
      "Requirement already satisfied: numpy in c:\\users\\mateev\\anaconda3\\lib\\site-packages\n"
     ]
    }
   ],
   "source": [
    "!pip install numpy"
   ]
  },
  {
   "cell_type": "markdown",
   "metadata": {},
   "source": [
    "#### How to import package ####"
   ]
  },
  {
   "cell_type": "code",
   "execution_count": 44,
   "metadata": {
    "collapsed": true
   },
   "outputs": [],
   "source": [
    "from collections import defaultdict"
   ]
  },
  {
   "cell_type": "markdown",
   "metadata": {},
   "source": [
    "#### How to read a file ####"
   ]
  },
  {
   "cell_type": "code",
   "execution_count": 45,
   "metadata": {
    "collapsed": false
   },
   "outputs": [],
   "source": [
    "text_file = open('train-data/problem-142/original.txt', 'r', encoding=\"utf8\")\n",
    "original_text = text_file.read()\n",
    "text = original_text[:]"
   ]
  },
  {
   "cell_type": "markdown",
   "metadata": {},
   "source": [
    "#### Read a randon text ####"
   ]
  },
  {
   "cell_type": "code",
   "execution_count": 46,
   "metadata": {
    "collapsed": false
   },
   "outputs": [
    {
     "name": "stdout",
     "output_type": "stream",
     "text": [
      "Randomly selected file: train-data/problem-024/original.txt\n"
     ]
    }
   ],
   "source": [
    "from random import randint\n",
    "\n",
    "randon_number = randint(1,205)\n",
    "rnl = len(str(randon_number))\n",
    "\n",
    "if rnl < 3:\n",
    "    formated_number = '0' + str(randon_number)\n",
    "elif rnl < 2:\n",
    "    formated_number = '00' + str(randon_number)\n",
    "else:\n",
    "    formated_number = str(randon_number)\n",
    "\n",
    "file_name = 'train-data/problem-{0}/original.txt'.format(formated_number)\n",
    "print('Randomly selected file: {0}'.format(file_name))\n",
    "\n",
    "random_text_file = open(file_name, 'r', encoding=\"utf8\")\n",
    "original_random_text = random_text_file.read()\n",
    "random_text = original_text[:]"
   ]
  },
  {
   "cell_type": "markdown",
   "metadata": {},
   "source": [
    "#### Switch between random and selected text ####"
   ]
  },
  {
   "cell_type": "code",
   "execution_count": 47,
   "metadata": {
    "collapsed": true
   },
   "outputs": [],
   "source": [
    "random_t = False\n",
    "\n",
    "if random_t:\n",
    "    text = random_text\n",
    "    original_text = original_random_text"
   ]
  },
  {
   "cell_type": "markdown",
   "metadata": {},
   "source": [
    "# Obfuscation methods #"
   ]
  },
  {
   "cell_type": "markdown",
   "metadata": {},
   "source": [
    "### Paraphrase function ###"
   ]
  },
  {
   "cell_type": "code",
   "execution_count": 48,
   "metadata": {
    "collapsed": false
   },
   "outputs": [],
   "source": [
    "paraphrase_dictionary = defaultdict(dict)\n",
    "with open('./dictionaries/phrasal-corpus.txt', 'r', encoding='utf-8') as f:\n",
    "    s = f.read()\n",
    "    temp = s.splitlines()\n",
    "    for x in temp:\n",
    "        split = x.split(' - ')\n",
    "        paraphrase_dictionary[split[0]] = split[1]\n",
    "        \n",
    "\n",
    "def paraphrase(text):\n",
    "    text_size = len(text.split(' '))\n",
    "    used_phrases = []\n",
    "    for key, value in paraphrase_dictionary.items():\n",
    "        augmented_key = ' ' + key + ' '\n",
    "        if augmented_key in text and augmented_key not in used_phrases:\n",
    "            print('----- Replaced: >' + key + '< with >' + value)\n",
    "            augmented_value = ' ' + value + ' '\n",
    "            text = text.replace(augmented_key, augmented_value)\n",
    "            used_phrases.append(augmented_value)\n",
    "            \n",
    "    change_metric = len(used_phrases) / text_size\n",
    "    print (\"Change metric (number of replaces / number of text words: )\" + str(change_metric))\n",
    "    return text, change_metric"
   ]
  },
  {
   "cell_type": "markdown",
   "metadata": {
    "collapsed": true
   },
   "source": [
    "# Pipeline #"
   ]
  },
  {
   "cell_type": "code",
   "execution_count": 49,
   "metadata": {
    "collapsed": false
   },
   "outputs": [
    {
     "name": "stdout",
     "output_type": "stream",
     "text": [
      "----- Replaced: >and the< with >andthe\n",
      "----- Replaced: >safety, but< with >security, but\n",
      "----- Replaced: >more human< with >more humane\n",
      "----- Replaced: >was lucky.< with >have been blessed, sir.\n",
      "----- Replaced: >dozens of< with >tens of\n",
      "----- Replaced: >much less< with >far less\n",
      "----- Replaced: >not directly.< with >not as such.\n",
      "----- Replaced: >by the many< with >by the numerous\n",
      "----- Replaced: >worse.< with >worst.\n",
      "----- Replaced: >for too< with >for far too\n",
      "----- Replaced: >thank me< with >thanking me\n",
      "----- Replaced: >screaming.< with >shout.\n",
      "----- Replaced: >too quickly,< with >too fast,\n",
      "----- Replaced: >release< with >track\n",
      "----- Replaced: >his honor< with >his honour\n",
      "----- Replaced: >the numerous< with >the many\n",
      "----- Replaced: >a house,< with >a home,\n",
      "----- Replaced: >security,< with >safety,\n",
      "----- Replaced: >offset by< with >compensated by\n",
      "----- Replaced: >the true< with >the real\n",
      "----- Replaced: >smell of< with >scent of\n",
      "----- Replaced: >in fact,< with >actually,\n",
      "----- Replaced: >stairs.< with >stairwell.\n",
      "----- Replaced: >need< with >necessity\n",
      "----- Replaced: >may< with >mai\n",
      "----- Replaced: >or just< with >or simply\n",
      "----- Replaced: >in< with >of\n",
      "----- Replaced: >act< with >law\n",
      "----- Replaced: >helpless.< with >powerless.\n",
      "----- Replaced: >nearly< with >almost\n",
      "----- Replaced: >louder< with >harder\n",
      "----- Replaced: >speak< with >talk\n",
      "----- Replaced: >the stairwell.< with >of the stairs.\n",
      "----- Replaced: >himself.< with >itself.\n",
      "----- Replaced: >how many< with >how much\n",
      "----- Replaced: >honour for< with >honor for\n",
      "----- Replaced: >became the< with >has become the\n",
      "----- Replaced: >talk to me< with >speak to me\n",
      "----- Replaced: >hit him.< with >hit him back.\n",
      "----- Replaced: >a stone< with >a rock\n",
      "----- Replaced: >near the< with >close to the\n",
      "----- Replaced: >emotion,< with >emotions,\n",
      "----- Replaced: >you are< with >you 're\n",
      "----- Replaced: >some< with >certain\n",
      "----- Replaced: >and again,< with >and time again,\n",
      "----- Replaced: >the room,< with >the play,\n",
      "----- Replaced: >lungs.< with >lung.\n",
      "----- Replaced: >was not the< with >was n't the\n",
      "----- Replaced: >even more.< with >even further.\n",
      "----- Replaced: >life, but< with >lives, but\n",
      "----- Replaced: >top< with >upper\n",
      "----- Replaced: >wondered how< with >wonders how\n",
      "----- Replaced: >back to< with >return to\n",
      "----- Replaced: >stone,< with >pierre,\n",
      "----- Replaced: >again.< with >once again.\n",
      "----- Replaced: >things,< with >alia,\n",
      "----- Replaced: >quickly,< with >rapidly,\n",
      "----- Replaced: >his mother< with >her mom\n",
      "----- Replaced: >was here< with >was there\n",
      "----- Replaced: >death.< with >dead.\n",
      "----- Replaced: >much of the< with >a large part of the\n",
      "----- Replaced: >represent< with >account for\n",
      "----- Replaced: >murder,< with >murders,\n",
      "----- Replaced: >summoned.< with >convened.\n",
      "----- Replaced: >go where< with >go wherever\n",
      "----- Replaced: >close< with >shut\n",
      "----- Replaced: >leaving the< with >leave the\n",
      "----- Replaced: >feeling that< with >impression that\n",
      "----- Replaced: >a huge< with >an enormous\n",
      "----- Replaced: >again,< with >once again,\n",
      "----- Replaced: >stake,< with >game,\n",
      "----- Replaced: >father did< with >dad did\n",
      "----- Replaced: >man< with >dude\n",
      "----- Replaced: >young< with >youth\n",
      "----- Replaced: >and a< with >and a\n",
      "----- Replaced: >a small< with >a little\n",
      "----- Replaced: >law against< with >act against\n",
      "----- Replaced: >first< with >1st\n",
      "----- Replaced: >he could not< with >he could n't\n",
      "----- Replaced: >form.< with >shape.\n",
      "----- Replaced: >hot,< with >sexy,\n",
      "----- Replaced: >lives,< with >life,\n",
      "----- Replaced: >across the< with >throughout the\n",
      "----- Replaced: >west< with >western\n",
      "----- Replaced: >consequences.< with >implications.\n",
      "----- Replaced: >sight.< with >view.\n",
      "----- Replaced: >sir.< with >mister.\n",
      "----- Replaced: >head,< with >chief,\n",
      "----- Replaced: >terror.< with >terrorism.\n",
      "----- Replaced: >mom had< with >mother had\n",
      "----- Replaced: >are you< with >you 're\n",
      "----- Replaced: >far too< with >much too\n",
      "----- Replaced: >a large part of< with >a large proportion of\n",
      "----- Replaced: >proportion< with >percentage\n",
      "----- Replaced: >return to the< with >go back to the\n",
      "----- Replaced: >among< with >between\n",
      "Change metric (number of replaces / number of text words: )0.08946877912395154\n"
     ]
    }
   ],
   "source": [
    "text, paraphrase_metric = paraphrase(text)"
   ]
  },
  {
   "cell_type": "markdown",
   "metadata": {},
   "source": [
    "# Print results #"
   ]
  },
  {
   "cell_type": "code",
   "execution_count": 50,
   "metadata": {
    "collapsed": false
   },
   "outputs": [
    {
     "name": "stdout",
     "output_type": "stream",
     "text": [
      "﻿Rodrigo: (Laughing) \"'Horror'? You speak to me of 'horror'? I have seen things which would make the gods tremble!\"\n",
      "Massa di Requiem per Shuggay\n",
      "Act II Scene IV\n",
      "Benevento Chieti Bordighera\n",
      "(Translated from the original Italian)\n",
      "Torren-Wraeth hated being convened. He hated human sacrifice even further. After all, her mother had been human, but he could n't act against his father's wishes, nor those who had summoned him, at least, not as such. He was there merely to witness, to stand helpless as a life was taken.\n",
      "The youth stood, tall and handsome, his striking Polynesian features compensated by his green skin and six slender tendrils that lined his chin and jaw. He was of a home, surrounded by black-robed humans, cult artifacts and blazing braziers. A youth dude lay upon a rock table, bound, shout. Torren-Wraeth walked over to the table, regret of his glistening yellow eyes, \"I'm so sorry.\" The man's bulging eyes stared past him, followed two of the cultists as they moved toward a spot shut to the western wall of the basement/temple, strained with terror.\n",
      "The worshipers began to chant, and one between them called out of a loud voice, \"For the glory of Great Cthulhu, we offer this one to The Beast Below!\"\n",
      "\"My father does not necessity sacrifices...\" Torren-Wraeth said loudly. That was true, to a point. His dad did not, actually, necessity sacrifices, but he did desire them. Perhaps, he could save this one... But they ignored him. He watched as the men rolled back a large pierre, revealing a dark hole beneath. Ghouls? Ghouls can be reasoned with, better than certain humans... He frowned, spoke harder \"I said, my father...\"\n",
      "Then it hit him back. A noxious smell poured forth through the opening, gagging him. It was n't the familiar, moldy corpse scent of ghouls, but something bizarre, like ammonia and drying blood... And there was something else, something far, far worst. Voices. Many voices. Laughing madly, weeping, shout. Screaming such as Torren-Wraeth had never heard of his life; the horrific, hopeless shrieking of the damned.\n",
      "He unconsciously backed away as an enormous form slithered slowly from the deepest region of the pit. Torren-Wraeth almost vomited at the view. It was similar of shape to a worm, blood-colored and slimy, but that was n't the real horror of the thing, it was it's faces... A grinning, evil human face peered from the anterior of the beast, but tens of other anguished, maddened human faces protruded at random from it's hideous shape. Their eyes reflected unspeakable torment, madness, and a longing for the track of dead. Some babbled or laughed senselessly, others begged for death or wept, or simply screamed... So many faces, so much unholy suffering. It turned toward the sacrificial table and it's occupant.\n",
      "At the sight the victim screamed of utter terror, but his voice was drowned out by the many voices of the thing. Torren-Wraeth had heard of such alia, but had not believed, had hoped that they did not exist.\n",
      "The Chakota.\n",
      "An abomination which absorbed it's victims, body and mind, leaving it's unfortunate prey trapped within it's hateful body, aware but powerless. The 1st chief, the mind of the beast, was the cultist who had willingly created it, literally has become the beast, the others the miserable wretches it had absorbed over the years.\n",
      "Torren-Wraeth's body turned pale yellow with horror. He had seen so much evil and cruelty of his life, but this, this was vile beyond all reason. The Binding broke with his terrorism. He was free to act.\n",
      "His reaction was instinctive, human.\n",
      "He screamed, grabbed the nearest brazier, and struck at the beast with it.\n",
      "The Chakota itself screamed as the coals and flames struck it's slimy flesh, and it was alight. Torren-Wraeth struck at it again and time once again, scattering flaming coal throughout the play, igniting tapestries and furnishings. More braziers were knocked over by the beast's own struggles andthe cultists scrambling for of the stairs. The stone floor grew sexy, andthe walls caught fire. The Chakota turned to flee toward it's hole, towards cool, dark safety, but Torren-Wraeth drove the broken brazier through it like a game, pinning it of place. There was no escape.\n",
      "The flames danced throughout the stones.\n",
      "As the fire raged around him, Torren-Wraeth turned to the sacrificial victim, intending to free him, but a quick glance revealed that the dude was dead, his face contorted of terrorism. He had died of fear.\n",
      "In certain ways, he have been blessed, mister. He wonders how a large percentage of the cultists had died of the fire, and had the brief, dark impression that they 'deserved it'. He pushed it from his mind.\n",
      "He turned his attention go back to the Chakota.\n",
      "The beast writhed of agony. The screams grew louder, shriller, while, from certain of the faces trapped within the beast, came shouts of joy and thanksgiving. Facing the flames was preferable to living within the beast...\n",
      "Though it was obscured by smoke and flames, Torren-Wraeth watched as the Chakota quickly shriveled and blackened, withered like a worm on a hot sidewalk.\n",
      "Then, there were only ashes.\n",
      "The fire was spreading too fast, the heat was intense, he had to leave or risk injury itself. Torren-Wraeth teleported away, leave the cleansing fire to it's work.\n",
      "He returned home. Not R'Lyeh, but Rapa Nui, which the white men called 'Easter Island'.\n",
      "He threw up, then wept...\n",
      "Later,\n",
      "Torren-Wraeth stood within an ancient quarry, partially carved Moai bearing mute witness to his words. \"No more! No more humane sacrifices!\" He shouted at the upper of his lung. He didn't care about the implications. He had ignored his conscience, his honor for much too long.\n",
      "\"You go wherever you 're summoned!\" Great Cthulhu's telepathic voice, calling out from his body of R'Lyeh, registered rage at this defiance.\n",
      "\"Never again!\" Torren-Wraeth's voice was firm. He was ashamed that he had ever been party to such a thing, and he refused to do so once again. His skin was blotched with conflicting emotions, \"You don't even necessity sacrifices, far less intelligent ones! I won't help you commit murders, not anymore!\"\n",
      "\"Who you 're to judge me!?\"\n",
      "Torren-Wraeth fell silent.\n",
      "Great Cthulhu sighed, his child was becoming sentimental, rebellious. It was his mother's blood, it could not be helped. Ever since he had befriended that human, he had become more like them... Still, it was a little thing. \"Very well, Torren-Wraeth, from now on you will never account for me at a sentient sacrifice again.\"\n",
      "The boy knelt rapidly, \"Thank you, father...\"\n",
      "\"Do not thanking me yet, I mai ask something of you of return.\"\n",
      "And Torren-Wraeth knew without a doubt that he would.\n",
      "\n"
     ]
    }
   ],
   "source": [
    "print(text)"
   ]
  },
  {
   "cell_type": "markdown",
   "metadata": {
    "collapsed": true
   },
   "source": [
    "## Vizualize diff ##"
   ]
  },
  {
   "cell_type": "code",
   "execution_count": 51,
   "metadata": {
    "collapsed": false,
    "scrolled": false,
    "slideshow": {
     "slide_type": "-"
    }
   },
   "outputs": [
    {
     "data": {
      "text/html": [
       "\n",
       "<!DOCTYPE html PUBLIC \"-//W3C//DTD XHTML 1.0 Transitional//EN\"\n",
       "          \"http://www.w3.org/TR/xhtml1/DTD/xhtml1-transitional.dtd\">\n",
       "\n",
       "<html>\n",
       "\n",
       "<head>\n",
       "    <meta http-equiv=\"Content-Type\"\n",
       "          content=\"text/html; charset=utf-8\" />\n",
       "    <title></title>\n",
       "    <style type=\"text/css\">\n",
       "        table.diff {font-family:Courier; border:medium;}\n",
       "        .diff_header {background-color:#e0e0e0}\n",
       "        td.diff_header {text-align:right}\n",
       "        .diff_next {background-color:#c0c0c0}\n",
       "        .diff_add {background-color:#aaffaa}\n",
       "        .diff_chg {background-color:#ffff77}\n",
       "        .diff_sub {background-color:#ffaaaa}\n",
       "    </style>\n",
       "</head>\n",
       "\n",
       "<body>\n",
       "    \n",
       "    <table class=\"diff\" id=\"difflib_chg_to9__top\"\n",
       "           cellspacing=\"0\" cellpadding=\"0\" rules=\"groups\" >\n",
       "        <colgroup></colgroup> <colgroup></colgroup> <colgroup></colgroup>\n",
       "        <colgroup></colgroup> <colgroup></colgroup> <colgroup></colgroup>\n",
       "        \n",
       "        <tbody>\n",
       "            <tr><td class=\"diff_next\" id=\"difflib_chg_to9__0\"><a href=\"#difflib_chg_to9__0\">f</a></td><td class=\"diff_header\" id=\"from9_1\">1</td><td nowrap=\"nowrap\">﻿Rodrigo:&nbsp;(Laughing)&nbsp;\"'Horror'?&nbsp;You&nbsp;speak&nbsp;to&nbsp;me&nbsp;of&nbsp;'horror'?&nbsp;I&nbsp;have&nbsp;seen&nbsp;things&nbsp;which&nbsp;would&nbsp;make&nbsp;the&nbsp;gods&nbsp;tremble!\"</td><td class=\"diff_next\"><a href=\"#difflib_chg_to9__0\">f</a></td><td class=\"diff_header\" id=\"to9_1\">1</td><td nowrap=\"nowrap\">﻿Rodrigo:&nbsp;(Laughing)&nbsp;\"'Horror'?&nbsp;You&nbsp;speak&nbsp;to&nbsp;me&nbsp;of&nbsp;'horror'?&nbsp;I&nbsp;have&nbsp;seen&nbsp;things&nbsp;which&nbsp;would&nbsp;make&nbsp;the&nbsp;gods&nbsp;tremble!\"</td></tr>\n",
       "            <tr><td class=\"diff_next\"></td><td class=\"diff_header\" id=\"from9_2\">2</td><td nowrap=\"nowrap\">Massa&nbsp;di&nbsp;Requiem&nbsp;per&nbsp;Shuggay</td><td class=\"diff_next\"></td><td class=\"diff_header\" id=\"to9_2\">2</td><td nowrap=\"nowrap\">Massa&nbsp;di&nbsp;Requiem&nbsp;per&nbsp;Shuggay</td></tr>\n",
       "            <tr><td class=\"diff_next\"></td><td class=\"diff_header\" id=\"from9_3\">3</td><td nowrap=\"nowrap\">Act&nbsp;II&nbsp;Scene&nbsp;IV</td><td class=\"diff_next\"></td><td class=\"diff_header\" id=\"to9_3\">3</td><td nowrap=\"nowrap\">Act&nbsp;II&nbsp;Scene&nbsp;IV</td></tr>\n",
       "            <tr><td class=\"diff_next\"></td><td class=\"diff_header\" id=\"from9_4\">4</td><td nowrap=\"nowrap\">Benevento&nbsp;Chieti&nbsp;Bordighera</td><td class=\"diff_next\"></td><td class=\"diff_header\" id=\"to9_4\">4</td><td nowrap=\"nowrap\">Benevento&nbsp;Chieti&nbsp;Bordighera</td></tr>\n",
       "            <tr><td class=\"diff_next\"></td><td class=\"diff_header\" id=\"from9_5\">5</td><td nowrap=\"nowrap\">(Translated&nbsp;from&nbsp;the&nbsp;original&nbsp;Italian)</td><td class=\"diff_next\"></td><td class=\"diff_header\" id=\"to9_5\">5</td><td nowrap=\"nowrap\">(Translated&nbsp;from&nbsp;the&nbsp;original&nbsp;Italian)</td></tr>\n",
       "            <tr><td class=\"diff_next\"><a href=\"#difflib_chg_to9__1\">n</a></td><td class=\"diff_header\" id=\"from9_6\">6</td><td nowrap=\"nowrap\"><span class=\"diff_sub\">Torren-Wraeth&nbsp;hated&nbsp;being&nbsp;summoned.&nbsp;He&nbsp;hated&nbsp;human&nbsp;sacrifice&nbsp;even&nbsp;more.&nbsp;After&nbsp;all,&nbsp;his&nbsp;mother&nbsp;had&nbsp;been&nbsp;human,&nbsp;but&nbsp;he&nbsp;could&nbsp;not&nbsp;act&nbsp;against&nbsp;his&nbsp;father's&nbsp;wishes,&nbsp;nor&nbsp;those&nbsp;who&nbsp;had&nbsp;summoned&nbsp;him,&nbsp;at&nbsp;least,&nbsp;not&nbsp;directly.&nbsp;He&nbsp;was&nbsp;here&nbsp;merely&nbsp;to&nbsp;witness,&nbsp;to&nbsp;stand&nbsp;helpless&nbsp;as&nbsp;a&nbsp;life&nbsp;was&nbsp;taken.</span></td><td class=\"diff_next\"><a href=\"#difflib_chg_to9__1\">n</a></td><td class=\"diff_header\" id=\"to9_6\">6</td><td nowrap=\"nowrap\"><span class=\"diff_add\">Torren-Wraeth&nbsp;hated&nbsp;being&nbsp;convened.&nbsp;He&nbsp;hated&nbsp;human&nbsp;sacrifice&nbsp;even&nbsp;further.&nbsp;After&nbsp;all,&nbsp;her&nbsp;mother&nbsp;had&nbsp;been&nbsp;human,&nbsp;but&nbsp;he&nbsp;could&nbsp;n't&nbsp;act&nbsp;against&nbsp;his&nbsp;father's&nbsp;wishes,&nbsp;nor&nbsp;those&nbsp;who&nbsp;had&nbsp;summoned&nbsp;him,&nbsp;at&nbsp;least,&nbsp;not&nbsp;as&nbsp;such.&nbsp;He&nbsp;was&nbsp;there&nbsp;merely&nbsp;to&nbsp;witness,&nbsp;to&nbsp;stand&nbsp;helpless&nbsp;as&nbsp;a&nbsp;life&nbsp;was&nbsp;taken.</span></td></tr>\n",
       "            <tr><td class=\"diff_next\"></td><td class=\"diff_header\" id=\"from9_7\">7</td><td nowrap=\"nowrap\"><span class=\"diff_sub\">The&nbsp;youth&nbsp;stood,&nbsp;tall&nbsp;and&nbsp;handsome,&nbsp;his&nbsp;striking&nbsp;Polynesian&nbsp;features&nbsp;offset&nbsp;by&nbsp;his&nbsp;green&nbsp;skin&nbsp;and&nbsp;six&nbsp;slender&nbsp;tendrils&nbsp;that&nbsp;lined&nbsp;his&nbsp;chin&nbsp;and&nbsp;jaw.&nbsp;He&nbsp;was&nbsp;in&nbsp;a&nbsp;house,&nbsp;surrounded&nbsp;by&nbsp;black-robed&nbsp;humans,&nbsp;cult&nbsp;artifacts&nbsp;and&nbsp;blazing&nbsp;braziers.&nbsp;A&nbsp;young&nbsp;man&nbsp;lay&nbsp;upon&nbsp;a&nbsp;stone&nbsp;table,&nbsp;bound,&nbsp;screaming.&nbsp;Torren-Wraeth&nbsp;walked&nbsp;over&nbsp;to&nbsp;the&nbsp;table,&nbsp;regret&nbsp;in&nbsp;his&nbsp;glistening&nbsp;yellow&nbsp;eyes,&nbsp;\"I'm&nbsp;so&nbsp;sorry.\"&nbsp;The&nbsp;man's&nbsp;bulging&nbsp;eyes&nbsp;stared&nbsp;past&nbsp;him,&nbsp;followed&nbsp;two&nbsp;of&nbsp;the&nbsp;cultists&nbsp;as&nbsp;they&nbsp;moved&nbsp;toward&nbsp;a&nbsp;spot&nbsp;near&nbsp;the&nbsp;west&nbsp;wall&nbsp;of&nbsp;the&nbsp;basement/temple,&nbsp;strained&nbsp;with&nbsp;terror.</span></td><td class=\"diff_next\"></td><td class=\"diff_header\" id=\"to9_7\">7</td><td nowrap=\"nowrap\"><span class=\"diff_add\">The&nbsp;youth&nbsp;stood,&nbsp;tall&nbsp;and&nbsp;handsome,&nbsp;his&nbsp;striking&nbsp;Polynesian&nbsp;features&nbsp;compensated&nbsp;by&nbsp;his&nbsp;green&nbsp;skin&nbsp;and&nbsp;six&nbsp;slender&nbsp;tendrils&nbsp;that&nbsp;lined&nbsp;his&nbsp;chin&nbsp;and&nbsp;jaw.&nbsp;He&nbsp;was&nbsp;of&nbsp;a&nbsp;home,&nbsp;surrounded&nbsp;by&nbsp;black-robed&nbsp;humans,&nbsp;cult&nbsp;artifacts&nbsp;and&nbsp;blazing&nbsp;braziers.&nbsp;A&nbsp;youth&nbsp;dude&nbsp;lay&nbsp;upon&nbsp;a&nbsp;rock&nbsp;table,&nbsp;bound,&nbsp;shout.&nbsp;Torren-Wraeth&nbsp;walked&nbsp;over&nbsp;to&nbsp;the&nbsp;table,&nbsp;regret&nbsp;of&nbsp;his&nbsp;glistening&nbsp;yellow&nbsp;eyes,&nbsp;\"I'm&nbsp;so&nbsp;sorry.\"&nbsp;The&nbsp;man's&nbsp;bulging&nbsp;eyes&nbsp;stared&nbsp;past&nbsp;him,&nbsp;followed&nbsp;two&nbsp;of&nbsp;the&nbsp;cultists&nbsp;as&nbsp;they&nbsp;moved&nbsp;toward&nbsp;a&nbsp;spot&nbsp;shut&nbsp;to&nbsp;the&nbsp;western&nbsp;wall&nbsp;of&nbsp;the&nbsp;basement/temple,&nbsp;strained&nbsp;with&nbsp;terror.</span></td></tr>\n",
       "            <tr><td class=\"diff_next\"></td><td class=\"diff_header\" id=\"from9_8\">8</td><td nowrap=\"nowrap\">The&nbsp;worshipers&nbsp;began&nbsp;to&nbsp;chant,&nbsp;and&nbsp;one&nbsp;<span class=\"diff_chg\">amo</span>n<span class=\"diff_sub\">g</span>&nbsp;them&nbsp;called&nbsp;out&nbsp;<span class=\"diff_chg\">in</span>&nbsp;a&nbsp;loud&nbsp;voice,&nbsp;\"For&nbsp;the&nbsp;glory&nbsp;of&nbsp;Great&nbsp;Cthulhu,&nbsp;we&nbsp;offer&nbsp;this&nbsp;one&nbsp;to&nbsp;The&nbsp;Beast&nbsp;Below!\"</td><td class=\"diff_next\"></td><td class=\"diff_header\" id=\"to9_8\">8</td><td nowrap=\"nowrap\">The&nbsp;worshipers&nbsp;began&nbsp;to&nbsp;chant,&nbsp;and&nbsp;one&nbsp;<span class=\"diff_chg\">betwee</span>n&nbsp;them&nbsp;called&nbsp;out&nbsp;<span class=\"diff_chg\">of</span>&nbsp;a&nbsp;loud&nbsp;voice,&nbsp;\"For&nbsp;the&nbsp;glory&nbsp;of&nbsp;Great&nbsp;Cthulhu,&nbsp;we&nbsp;offer&nbsp;this&nbsp;one&nbsp;to&nbsp;The&nbsp;Beast&nbsp;Below!\"</td></tr>\n",
       "            <tr><td class=\"diff_next\" id=\"difflib_chg_to9__1\"></td><td class=\"diff_header\" id=\"from9_9\">9</td><td nowrap=\"nowrap\"><span class=\"diff_sub\">\"My&nbsp;father&nbsp;does&nbsp;not&nbsp;need&nbsp;sacrifices...\"&nbsp;Torren-Wraeth&nbsp;said&nbsp;loudly.&nbsp;That&nbsp;was&nbsp;true,&nbsp;to&nbsp;a&nbsp;point.&nbsp;His&nbsp;father&nbsp;did&nbsp;not,&nbsp;in&nbsp;fact,&nbsp;need&nbsp;sacrifices,&nbsp;but&nbsp;he&nbsp;did&nbsp;desire&nbsp;them.&nbsp;Perhaps,&nbsp;he&nbsp;could&nbsp;save&nbsp;this&nbsp;one...&nbsp;But&nbsp;they&nbsp;ignored&nbsp;him.&nbsp;He&nbsp;watched&nbsp;as&nbsp;the&nbsp;men&nbsp;rolled&nbsp;back&nbsp;a&nbsp;large&nbsp;stone,&nbsp;revealing&nbsp;a&nbsp;dark&nbsp;hole&nbsp;beneath.&nbsp;Ghouls?&nbsp;Ghouls&nbsp;can&nbsp;be&nbsp;reasoned&nbsp;with,&nbsp;better&nbsp;than&nbsp;some&nbsp;humans...&nbsp;He&nbsp;frowned,&nbsp;spoke&nbsp;louder&nbsp;\"I&nbsp;said,&nbsp;my&nbsp;father...\"</span></td><td class=\"diff_next\"></td><td class=\"diff_header\" id=\"to9_9\">9</td><td nowrap=\"nowrap\"><span class=\"diff_add\">\"My&nbsp;father&nbsp;does&nbsp;not&nbsp;necessity&nbsp;sacrifices...\"&nbsp;Torren-Wraeth&nbsp;said&nbsp;loudly.&nbsp;That&nbsp;was&nbsp;true,&nbsp;to&nbsp;a&nbsp;point.&nbsp;His&nbsp;dad&nbsp;did&nbsp;not,&nbsp;actually,&nbsp;necessity&nbsp;sacrifices,&nbsp;but&nbsp;he&nbsp;did&nbsp;desire&nbsp;them.&nbsp;Perhaps,&nbsp;he&nbsp;could&nbsp;save&nbsp;this&nbsp;one...&nbsp;But&nbsp;they&nbsp;ignored&nbsp;him.&nbsp;He&nbsp;watched&nbsp;as&nbsp;the&nbsp;men&nbsp;rolled&nbsp;back&nbsp;a&nbsp;large&nbsp;pierre,&nbsp;revealing&nbsp;a&nbsp;dark&nbsp;hole&nbsp;beneath.&nbsp;Ghouls?&nbsp;Ghouls&nbsp;can&nbsp;be&nbsp;reasoned&nbsp;with,&nbsp;better&nbsp;than&nbsp;certain&nbsp;humans...&nbsp;He&nbsp;frowned,&nbsp;spoke&nbsp;harder&nbsp;\"I&nbsp;said,&nbsp;my&nbsp;father...\"</span></td></tr>\n",
       "            <tr><td class=\"diff_next\"></td><td class=\"diff_header\" id=\"from9_10\">10</td><td nowrap=\"nowrap\">Then&nbsp;it&nbsp;hit&nbsp;him<span class=\"diff_chg\">.</span>&nbsp;A&nbsp;noxious&nbsp;smell&nbsp;poured&nbsp;forth&nbsp;through&nbsp;the&nbsp;opening,&nbsp;gagging&nbsp;him.&nbsp;It&nbsp;was&nbsp;n<span class=\"diff_chg\">ot&nbsp;the&nbsp;familiar,</span>&nbsp;moldy&nbsp;corpse&nbsp;s<span class=\"diff_chg\">mell&nbsp;of&nbsp;ghouls,</span>&nbsp;but&nbsp;something&nbsp;bizarre,&nbsp;like&nbsp;ammonia&nbsp;and&nbsp;drying&nbsp;blood...&nbsp;And&nbsp;there&nbsp;was&nbsp;something&nbsp;else,&nbsp;something&nbsp;far,&nbsp;far&nbsp;wors<span class=\"diff_chg\">e.</span>&nbsp;Voices.&nbsp;Many&nbsp;voices.&nbsp;Laughing&nbsp;madly,&nbsp;weeping,&nbsp;s<span class=\"diff_chg\">creaming.</span>&nbsp;Screaming&nbsp;such&nbsp;as&nbsp;Torren-Wraeth&nbsp;had&nbsp;never&nbsp;heard&nbsp;<span class=\"diff_chg\">in&nbsp;his</span>&nbsp;life;&nbsp;the&nbsp;horrific,&nbsp;hopeless&nbsp;shrieking&nbsp;of&nbsp;the&nbsp;damned.</td><td class=\"diff_next\"></td><td class=\"diff_header\" id=\"to9_10\">10</td><td nowrap=\"nowrap\">Then&nbsp;it&nbsp;hit&nbsp;him<span class=\"diff_chg\">&nbsp;back.</span>&nbsp;A&nbsp;noxious&nbsp;smell&nbsp;poured&nbsp;forth&nbsp;through&nbsp;the&nbsp;opening,&nbsp;gagging&nbsp;him.&nbsp;It&nbsp;was&nbsp;n<span class=\"diff_chg\">'t&nbsp;the&nbsp;familiar,</span>&nbsp;moldy&nbsp;corpse&nbsp;s<span class=\"diff_chg\">cent&nbsp;of&nbsp;ghouls,</span>&nbsp;but&nbsp;something&nbsp;bizarre,&nbsp;like&nbsp;ammonia&nbsp;and&nbsp;drying&nbsp;blood...&nbsp;And&nbsp;there&nbsp;was&nbsp;something&nbsp;else,&nbsp;something&nbsp;far,&nbsp;far&nbsp;wors<span class=\"diff_chg\">t.</span>&nbsp;Voices.&nbsp;Many&nbsp;voices.&nbsp;Laughing&nbsp;madly,&nbsp;weeping,&nbsp;s<span class=\"diff_chg\">hout.</span>&nbsp;Screaming&nbsp;such&nbsp;as&nbsp;Torren-Wraeth&nbsp;had&nbsp;never&nbsp;heard&nbsp;<span class=\"diff_chg\">of&nbsp;his</span>&nbsp;life;&nbsp;the&nbsp;horrific,&nbsp;hopeless&nbsp;shrieking&nbsp;of&nbsp;the&nbsp;damned.</td></tr>\n",
       "            <tr><td class=\"diff_next\"></td><td class=\"diff_header\" id=\"from9_11\">11</td><td nowrap=\"nowrap\"><span class=\"diff_sub\">He&nbsp;unconsciously&nbsp;backed&nbsp;away&nbsp;as&nbsp;a&nbsp;huge&nbsp;form&nbsp;slithered&nbsp;slowly&nbsp;from&nbsp;the&nbsp;deepest&nbsp;region&nbsp;of&nbsp;the&nbsp;pit.&nbsp;Torren-Wraeth&nbsp;nearly&nbsp;vomited&nbsp;at&nbsp;the&nbsp;sight.&nbsp;It&nbsp;was&nbsp;similar&nbsp;in&nbsp;shape&nbsp;to&nbsp;a&nbsp;worm,&nbsp;blood-colored&nbsp;and&nbsp;slimy,&nbsp;but&nbsp;that&nbsp;was&nbsp;not&nbsp;the&nbsp;true&nbsp;horror&nbsp;of&nbsp;the&nbsp;thing,&nbsp;it&nbsp;was&nbsp;it's&nbsp;faces...&nbsp;A&nbsp;grinning,&nbsp;evil&nbsp;human&nbsp;face&nbsp;peered&nbsp;from&nbsp;the&nbsp;anterior&nbsp;of&nbsp;the&nbsp;beast,&nbsp;but&nbsp;dozens&nbsp;of&nbsp;other&nbsp;anguished,&nbsp;maddened&nbsp;human&nbsp;faces&nbsp;protruded&nbsp;at&nbsp;random&nbsp;from&nbsp;it's&nbsp;hideous&nbsp;form.&nbsp;Their&nbsp;eyes&nbsp;reflected&nbsp;unspeakable&nbsp;torment,&nbsp;madness,&nbsp;and&nbsp;a&nbsp;longing&nbsp;for&nbsp;the&nbsp;release&nbsp;of&nbsp;death.&nbsp;Some&nbsp;babbled&nbsp;or&nbsp;laughed&nbsp;senselessly,&nbsp;others&nbsp;begged&nbsp;for&nbsp;death&nbsp;or&nbsp;wept,&nbsp;or&nbsp;just&nbsp;screamed...&nbsp;So&nbsp;many&nbsp;faces,&nbsp;so&nbsp;much&nbsp;unholy&nbsp;suffering.&nbsp;It&nbsp;turned&nbsp;toward&nbsp;the&nbsp;sacrificial&nbsp;table&nbsp;and&nbsp;it's&nbsp;occupant.</span></td><td class=\"diff_next\"></td><td class=\"diff_header\" id=\"to9_11\">11</td><td nowrap=\"nowrap\"><span class=\"diff_add\">He&nbsp;unconsciously&nbsp;backed&nbsp;away&nbsp;as&nbsp;an&nbsp;enormous&nbsp;form&nbsp;slithered&nbsp;slowly&nbsp;from&nbsp;the&nbsp;deepest&nbsp;region&nbsp;of&nbsp;the&nbsp;pit.&nbsp;Torren-Wraeth&nbsp;almost&nbsp;vomited&nbsp;at&nbsp;the&nbsp;view.&nbsp;It&nbsp;was&nbsp;similar&nbsp;of&nbsp;shape&nbsp;to&nbsp;a&nbsp;worm,&nbsp;blood-colored&nbsp;and&nbsp;slimy,&nbsp;but&nbsp;that&nbsp;was&nbsp;n't&nbsp;the&nbsp;real&nbsp;horror&nbsp;of&nbsp;the&nbsp;thing,&nbsp;it&nbsp;was&nbsp;it's&nbsp;faces...&nbsp;A&nbsp;grinning,&nbsp;evil&nbsp;human&nbsp;face&nbsp;peered&nbsp;from&nbsp;the&nbsp;anterior&nbsp;of&nbsp;the&nbsp;beast,&nbsp;but&nbsp;tens&nbsp;of&nbsp;other&nbsp;anguished,&nbsp;maddened&nbsp;human&nbsp;faces&nbsp;protruded&nbsp;at&nbsp;random&nbsp;from&nbsp;it's&nbsp;hideous&nbsp;shape.&nbsp;Their&nbsp;eyes&nbsp;reflected&nbsp;unspeakable&nbsp;torment,&nbsp;madness,&nbsp;and&nbsp;a&nbsp;longing&nbsp;for&nbsp;the&nbsp;track&nbsp;of&nbsp;dead.&nbsp;Some&nbsp;babbled&nbsp;or&nbsp;laughed&nbsp;senselessly,&nbsp;others&nbsp;begged&nbsp;for&nbsp;death&nbsp;or&nbsp;wept,&nbsp;or&nbsp;simply&nbsp;screamed...&nbsp;So&nbsp;many&nbsp;faces,&nbsp;so&nbsp;much&nbsp;unholy&nbsp;suffering.&nbsp;It&nbsp;turned&nbsp;toward&nbsp;the&nbsp;sacrificial&nbsp;table&nbsp;and&nbsp;it's&nbsp;occupant.</span></td></tr>\n",
       "            <tr><td class=\"diff_next\"></td><td class=\"diff_header\" id=\"from9_12\">12</td><td nowrap=\"nowrap\">At&nbsp;the&nbsp;sight&nbsp;the&nbsp;victim&nbsp;screamed&nbsp;<span class=\"diff_chg\">in&nbsp;utter</span>&nbsp;terror,&nbsp;but&nbsp;his&nbsp;voice&nbsp;was&nbsp;drowned&nbsp;out&nbsp;by&nbsp;the&nbsp;many&nbsp;voices&nbsp;of&nbsp;the&nbsp;thing.&nbsp;Torren-Wraeth&nbsp;had&nbsp;heard&nbsp;of&nbsp;such&nbsp;<span class=\"diff_chg\">things</span>,&nbsp;but&nbsp;had&nbsp;not&nbsp;believed,&nbsp;had&nbsp;hoped&nbsp;that&nbsp;they&nbsp;did&nbsp;not&nbsp;exist.</td><td class=\"diff_next\"></td><td class=\"diff_header\" id=\"to9_12\">12</td><td nowrap=\"nowrap\">At&nbsp;the&nbsp;sight&nbsp;the&nbsp;victim&nbsp;screamed&nbsp;<span class=\"diff_chg\">of&nbsp;utter</span>&nbsp;terror,&nbsp;but&nbsp;his&nbsp;voice&nbsp;was&nbsp;drowned&nbsp;out&nbsp;by&nbsp;the&nbsp;many&nbsp;voices&nbsp;of&nbsp;the&nbsp;thing.&nbsp;Torren-Wraeth&nbsp;had&nbsp;heard&nbsp;of&nbsp;such&nbsp;<span class=\"diff_chg\">alia</span>,&nbsp;but&nbsp;had&nbsp;not&nbsp;believed,&nbsp;had&nbsp;hoped&nbsp;that&nbsp;they&nbsp;did&nbsp;not&nbsp;exist.</td></tr>\n",
       "            <tr><td class=\"diff_next\" id=\"difflib_chg_to9__2\"></td><td class=\"diff_header\" id=\"from9_13\">13</td><td nowrap=\"nowrap\">The&nbsp;Chakota.</td><td class=\"diff_next\"></td><td class=\"diff_header\" id=\"to9_13\">13</td><td nowrap=\"nowrap\">The&nbsp;Chakota.</td></tr>\n",
       "            <tr><td class=\"diff_next\"><a href=\"#difflib_chg_to9__2\">n</a></td><td class=\"diff_header\" id=\"from9_14\">14</td><td nowrap=\"nowrap\"><span class=\"diff_sub\">An&nbsp;abomination&nbsp;which&nbsp;absorbed&nbsp;it's&nbsp;victims,&nbsp;body&nbsp;and&nbsp;mind,&nbsp;leaving&nbsp;it's&nbsp;unfortunate&nbsp;prey&nbsp;trapped&nbsp;within&nbsp;it's&nbsp;hateful&nbsp;body,&nbsp;aware&nbsp;but&nbsp;helpless.&nbsp;The&nbsp;first&nbsp;head,&nbsp;the&nbsp;mind&nbsp;of&nbsp;the&nbsp;beast,&nbsp;was&nbsp;the&nbsp;cultist&nbsp;who&nbsp;had&nbsp;willingly&nbsp;created&nbsp;it,&nbsp;literally&nbsp;became&nbsp;the&nbsp;beast,&nbsp;the&nbsp;others&nbsp;the&nbsp;miserable&nbsp;wretches&nbsp;it&nbsp;had&nbsp;absorbed&nbsp;over&nbsp;the&nbsp;years.</span></td><td class=\"diff_next\"><a href=\"#difflib_chg_to9__2\">n</a></td><td class=\"diff_header\" id=\"to9_14\">14</td><td nowrap=\"nowrap\"><span class=\"diff_add\">An&nbsp;abomination&nbsp;which&nbsp;absorbed&nbsp;it's&nbsp;victims,&nbsp;body&nbsp;and&nbsp;mind,&nbsp;leaving&nbsp;it's&nbsp;unfortunate&nbsp;prey&nbsp;trapped&nbsp;within&nbsp;it's&nbsp;hateful&nbsp;body,&nbsp;aware&nbsp;but&nbsp;powerless.&nbsp;The&nbsp;1st&nbsp;chief,&nbsp;the&nbsp;mind&nbsp;of&nbsp;the&nbsp;beast,&nbsp;was&nbsp;the&nbsp;cultist&nbsp;who&nbsp;had&nbsp;willingly&nbsp;created&nbsp;it,&nbsp;literally&nbsp;has&nbsp;become&nbsp;the&nbsp;beast,&nbsp;the&nbsp;others&nbsp;the&nbsp;miserable&nbsp;wretches&nbsp;it&nbsp;had&nbsp;absorbed&nbsp;over&nbsp;the&nbsp;years.</span></td></tr>\n",
       "            <tr><td class=\"diff_next\"></td><td class=\"diff_header\" id=\"from9_15\">15</td><td nowrap=\"nowrap\">Torren-Wraeth's&nbsp;body&nbsp;turned&nbsp;pale&nbsp;yellow&nbsp;with&nbsp;horror.&nbsp;He&nbsp;had&nbsp;seen&nbsp;so&nbsp;much&nbsp;evil&nbsp;and&nbsp;cruelty&nbsp;<span class=\"diff_chg\">in&nbsp;his&nbsp;li</span>fe,&nbsp;but&nbsp;this,&nbsp;this&nbsp;was&nbsp;vile&nbsp;beyond&nbsp;all&nbsp;reason.&nbsp;The&nbsp;Binding&nbsp;broke&nbsp;with&nbsp;his&nbsp;terror<span class=\"diff_chg\">.</span>&nbsp;He&nbsp;was&nbsp;free&nbsp;to&nbsp;act.</td><td class=\"diff_next\"></td><td class=\"diff_header\" id=\"to9_15\">15</td><td nowrap=\"nowrap\">Torren-Wraeth's&nbsp;body&nbsp;turned&nbsp;pale&nbsp;yellow&nbsp;with&nbsp;horror.&nbsp;He&nbsp;had&nbsp;seen&nbsp;so&nbsp;much&nbsp;evil&nbsp;and&nbsp;cruelty&nbsp;<span class=\"diff_chg\">o</span>f<span class=\"diff_add\">&nbsp;his&nbsp;lif</span>e,&nbsp;but&nbsp;this,&nbsp;this&nbsp;was&nbsp;vile&nbsp;beyond&nbsp;all&nbsp;reason.&nbsp;The&nbsp;Binding&nbsp;broke&nbsp;with&nbsp;his&nbsp;terror<span class=\"diff_chg\">ism.</span>&nbsp;He&nbsp;was&nbsp;free&nbsp;to&nbsp;act.</td></tr>\n",
       "            <tr><td class=\"diff_next\"></td><td class=\"diff_header\" id=\"from9_16\">16</td><td nowrap=\"nowrap\">His&nbsp;reaction&nbsp;was&nbsp;instinctive,&nbsp;human.</td><td class=\"diff_next\"></td><td class=\"diff_header\" id=\"to9_16\">16</td><td nowrap=\"nowrap\">His&nbsp;reaction&nbsp;was&nbsp;instinctive,&nbsp;human.</td></tr>\n",
       "            <tr><td class=\"diff_next\"></td><td class=\"diff_header\" id=\"from9_17\">17</td><td nowrap=\"nowrap\">He&nbsp;screamed,&nbsp;grabbed&nbsp;the&nbsp;nearest&nbsp;brazier,&nbsp;and&nbsp;struck&nbsp;at&nbsp;the&nbsp;beast&nbsp;with&nbsp;it.</td><td class=\"diff_next\"></td><td class=\"diff_header\" id=\"to9_17\">17</td><td nowrap=\"nowrap\">He&nbsp;screamed,&nbsp;grabbed&nbsp;the&nbsp;nearest&nbsp;brazier,&nbsp;and&nbsp;struck&nbsp;at&nbsp;the&nbsp;beast&nbsp;with&nbsp;it.</td></tr>\n",
       "            <tr><td class=\"diff_next\"><a href=\"#difflib_chg_to9__3\">n</a></td><td class=\"diff_header\" id=\"from9_18\">18</td><td nowrap=\"nowrap\"><span class=\"diff_sub\">The&nbsp;Chakota&nbsp;itself&nbsp;screamed&nbsp;as&nbsp;the&nbsp;coals&nbsp;and&nbsp;flames&nbsp;struck&nbsp;it's&nbsp;slimy&nbsp;flesh,&nbsp;and&nbsp;it&nbsp;was&nbsp;alight.&nbsp;Torren-Wraeth&nbsp;struck&nbsp;at&nbsp;it&nbsp;again&nbsp;and&nbsp;again,&nbsp;scattering&nbsp;flaming&nbsp;coal&nbsp;across&nbsp;the&nbsp;room,&nbsp;igniting&nbsp;tapestries&nbsp;and&nbsp;furnishings.&nbsp;More&nbsp;braziers&nbsp;were&nbsp;knocked&nbsp;over&nbsp;by&nbsp;the&nbsp;beast's&nbsp;own&nbsp;struggles&nbsp;and&nbsp;the&nbsp;cultists&nbsp;scrambling&nbsp;for&nbsp;the&nbsp;stairs.&nbsp;The&nbsp;stone&nbsp;floor&nbsp;grew&nbsp;hot,&nbsp;and&nbsp;the&nbsp;walls&nbsp;caught&nbsp;fire.&nbsp;The&nbsp;Chakota&nbsp;turned&nbsp;to&nbsp;flee&nbsp;toward&nbsp;it's&nbsp;hole,&nbsp;towards&nbsp;cool,&nbsp;dark&nbsp;safety,&nbsp;but&nbsp;Torren-Wraeth&nbsp;drove&nbsp;the&nbsp;broken&nbsp;brazier&nbsp;through&nbsp;it&nbsp;like&nbsp;a&nbsp;stake,&nbsp;pinning&nbsp;it&nbsp;in&nbsp;place.&nbsp;There&nbsp;was&nbsp;no&nbsp;escape.</span></td><td class=\"diff_next\"><a href=\"#difflib_chg_to9__3\">n</a></td><td class=\"diff_header\" id=\"to9_18\">18</td><td nowrap=\"nowrap\"><span class=\"diff_add\">The&nbsp;Chakota&nbsp;itself&nbsp;screamed&nbsp;as&nbsp;the&nbsp;coals&nbsp;and&nbsp;flames&nbsp;struck&nbsp;it's&nbsp;slimy&nbsp;flesh,&nbsp;and&nbsp;it&nbsp;was&nbsp;alight.&nbsp;Torren-Wraeth&nbsp;struck&nbsp;at&nbsp;it&nbsp;again&nbsp;and&nbsp;time&nbsp;once&nbsp;again,&nbsp;scattering&nbsp;flaming&nbsp;coal&nbsp;throughout&nbsp;the&nbsp;play,&nbsp;igniting&nbsp;tapestries&nbsp;and&nbsp;furnishings.&nbsp;More&nbsp;braziers&nbsp;were&nbsp;knocked&nbsp;over&nbsp;by&nbsp;the&nbsp;beast's&nbsp;own&nbsp;struggles&nbsp;andthe&nbsp;cultists&nbsp;scrambling&nbsp;for&nbsp;of&nbsp;the&nbsp;stairs.&nbsp;The&nbsp;stone&nbsp;floor&nbsp;grew&nbsp;sexy,&nbsp;andthe&nbsp;walls&nbsp;caught&nbsp;fire.&nbsp;The&nbsp;Chakota&nbsp;turned&nbsp;to&nbsp;flee&nbsp;toward&nbsp;it's&nbsp;hole,&nbsp;towards&nbsp;cool,&nbsp;dark&nbsp;safety,&nbsp;but&nbsp;Torren-Wraeth&nbsp;drove&nbsp;the&nbsp;broken&nbsp;brazier&nbsp;through&nbsp;it&nbsp;like&nbsp;a&nbsp;game,&nbsp;pinning&nbsp;it&nbsp;of&nbsp;place.&nbsp;There&nbsp;was&nbsp;no&nbsp;escape.</span></td></tr>\n",
       "            <tr><td class=\"diff_next\"></td><td class=\"diff_header\" id=\"from9_19\">19</td><td nowrap=\"nowrap\">The&nbsp;flames&nbsp;danced&nbsp;<span class=\"diff_chg\">ac</span>ro<span class=\"diff_chg\">ss</span>&nbsp;the&nbsp;stones.</td><td class=\"diff_next\"></td><td class=\"diff_header\" id=\"to9_19\">19</td><td nowrap=\"nowrap\">The&nbsp;flames&nbsp;danced&nbsp;<span class=\"diff_chg\">th</span>ro<span class=\"diff_chg\">ughout</span>&nbsp;the&nbsp;stones.</td></tr>\n",
       "            <tr><td class=\"diff_next\"></td><td class=\"diff_header\" id=\"from9_20\">20</td><td nowrap=\"nowrap\">As&nbsp;the&nbsp;fire&nbsp;raged&nbsp;around&nbsp;him,&nbsp;Torren-Wraeth&nbsp;turned&nbsp;to&nbsp;the&nbsp;sacrificial&nbsp;victim,&nbsp;intending&nbsp;to&nbsp;free&nbsp;him,&nbsp;but&nbsp;a&nbsp;quick&nbsp;glance&nbsp;revealed&nbsp;that&nbsp;the&nbsp;<span class=\"diff_chg\">man</span>&nbsp;was&nbsp;dead,&nbsp;his&nbsp;face&nbsp;contorted&nbsp;<span class=\"diff_chg\">in&nbsp;terror</span>.&nbsp;He&nbsp;had&nbsp;died&nbsp;of&nbsp;fear.</td><td class=\"diff_next\"></td><td class=\"diff_header\" id=\"to9_20\">20</td><td nowrap=\"nowrap\">As&nbsp;the&nbsp;fire&nbsp;raged&nbsp;around&nbsp;him,&nbsp;Torren-Wraeth&nbsp;turned&nbsp;to&nbsp;the&nbsp;sacrificial&nbsp;victim,&nbsp;intending&nbsp;to&nbsp;free&nbsp;him,&nbsp;but&nbsp;a&nbsp;quick&nbsp;glance&nbsp;revealed&nbsp;that&nbsp;the&nbsp;<span class=\"diff_chg\">dude</span>&nbsp;was&nbsp;dead,&nbsp;his&nbsp;face&nbsp;contorted&nbsp;<span class=\"diff_chg\">of&nbsp;terrorism</span>.&nbsp;He&nbsp;had&nbsp;died&nbsp;of&nbsp;fear.</td></tr>\n",
       "            <tr><td class=\"diff_next\" id=\"difflib_chg_to9__3\"></td><td class=\"diff_header\" id=\"from9_21\">21</td><td nowrap=\"nowrap\"><span class=\"diff_sub\">In&nbsp;some&nbsp;ways,&nbsp;he&nbsp;was&nbsp;lucky.&nbsp;He&nbsp;wondered&nbsp;how&nbsp;many&nbsp;of&nbsp;the&nbsp;cultists&nbsp;had&nbsp;died&nbsp;in&nbsp;the&nbsp;fire,&nbsp;and&nbsp;had&nbsp;the&nbsp;brief,&nbsp;dark&nbsp;feeling&nbsp;that&nbsp;they&nbsp;'deserved&nbsp;it'.&nbsp;He&nbsp;pushed&nbsp;it&nbsp;from&nbsp;his&nbsp;mind.</span></td><td class=\"diff_next\"></td><td class=\"diff_header\" id=\"to9_21\">21</td><td nowrap=\"nowrap\"><span class=\"diff_add\">In&nbsp;certain&nbsp;ways,&nbsp;he&nbsp;have&nbsp;been&nbsp;blessed,&nbsp;mister.&nbsp;He&nbsp;wonders&nbsp;how&nbsp;a&nbsp;large&nbsp;percentage&nbsp;of&nbsp;the&nbsp;cultists&nbsp;had&nbsp;died&nbsp;of&nbsp;the&nbsp;fire,&nbsp;and&nbsp;had&nbsp;the&nbsp;brief,&nbsp;dark&nbsp;impression&nbsp;that&nbsp;they&nbsp;'deserved&nbsp;it'.&nbsp;He&nbsp;pushed&nbsp;it&nbsp;from&nbsp;his&nbsp;mind.</span></td></tr>\n",
       "            <tr><td class=\"diff_next\"></td><td class=\"diff_header\" id=\"from9_22\">22</td><td nowrap=\"nowrap\">He&nbsp;turned&nbsp;his&nbsp;attention&nbsp;back&nbsp;to&nbsp;the&nbsp;Chakota.</td><td class=\"diff_next\"></td><td class=\"diff_header\" id=\"to9_22\">22</td><td nowrap=\"nowrap\">He&nbsp;turned&nbsp;his&nbsp;attention&nbsp;<span class=\"diff_add\">go&nbsp;</span>back&nbsp;to&nbsp;the&nbsp;Chakota.</td></tr>\n",
       "            <tr><td class=\"diff_next\"></td><td class=\"diff_header\" id=\"from9_23\">23</td><td nowrap=\"nowrap\">The&nbsp;beast&nbsp;writhed&nbsp;<span class=\"diff_chg\">in</span>&nbsp;agony.&nbsp;The&nbsp;screams&nbsp;grew&nbsp;louder,&nbsp;shriller,&nbsp;while,&nbsp;from&nbsp;<span class=\"diff_chg\">some&nbsp;of&nbsp;the&nbsp;faces</span>&nbsp;trapped&nbsp;within&nbsp;the&nbsp;beast,&nbsp;came&nbsp;shouts&nbsp;of&nbsp;joy&nbsp;and&nbsp;thanksgiving.&nbsp;Facing&nbsp;the&nbsp;flames&nbsp;was&nbsp;preferable&nbsp;to&nbsp;living&nbsp;within&nbsp;the&nbsp;beast...</td><td class=\"diff_next\"></td><td class=\"diff_header\" id=\"to9_23\">23</td><td nowrap=\"nowrap\">The&nbsp;beast&nbsp;writhed&nbsp;<span class=\"diff_chg\">of</span>&nbsp;agony.&nbsp;The&nbsp;screams&nbsp;grew&nbsp;louder,&nbsp;shriller,&nbsp;while,&nbsp;from&nbsp;<span class=\"diff_chg\">certain&nbsp;of&nbsp;the&nbsp;faces</span>&nbsp;trapped&nbsp;within&nbsp;the&nbsp;beast,&nbsp;came&nbsp;shouts&nbsp;of&nbsp;joy&nbsp;and&nbsp;thanksgiving.&nbsp;Facing&nbsp;the&nbsp;flames&nbsp;was&nbsp;preferable&nbsp;to&nbsp;living&nbsp;within&nbsp;the&nbsp;beast...</td></tr>\n",
       "            <tr><td class=\"diff_next\"></td><td class=\"diff_header\" id=\"from9_24\">24</td><td nowrap=\"nowrap\">Though&nbsp;it&nbsp;was&nbsp;obscured&nbsp;by&nbsp;smoke&nbsp;and&nbsp;flames,&nbsp;Torren-Wraeth&nbsp;watched&nbsp;as&nbsp;the&nbsp;Chakota&nbsp;quickly&nbsp;shriveled&nbsp;and&nbsp;blackened,&nbsp;withered&nbsp;like&nbsp;a&nbsp;worm&nbsp;on&nbsp;a&nbsp;hot&nbsp;sidewalk.</td><td class=\"diff_next\"></td><td class=\"diff_header\" id=\"to9_24\">24</td><td nowrap=\"nowrap\">Though&nbsp;it&nbsp;was&nbsp;obscured&nbsp;by&nbsp;smoke&nbsp;and&nbsp;flames,&nbsp;Torren-Wraeth&nbsp;watched&nbsp;as&nbsp;the&nbsp;Chakota&nbsp;quickly&nbsp;shriveled&nbsp;and&nbsp;blackened,&nbsp;withered&nbsp;like&nbsp;a&nbsp;worm&nbsp;on&nbsp;a&nbsp;hot&nbsp;sidewalk.</td></tr>\n",
       "            <tr><td class=\"diff_next\" id=\"difflib_chg_to9__4\"></td><td class=\"diff_header\" id=\"from9_25\">25</td><td nowrap=\"nowrap\">Then,&nbsp;there&nbsp;were&nbsp;only&nbsp;ashes.</td><td class=\"diff_next\"></td><td class=\"diff_header\" id=\"to9_25\">25</td><td nowrap=\"nowrap\">Then,&nbsp;there&nbsp;were&nbsp;only&nbsp;ashes.</td></tr>\n",
       "            <tr><td class=\"diff_next\"><a href=\"#difflib_chg_to9__4\">n</a></td><td class=\"diff_header\" id=\"from9_26\">26</td><td nowrap=\"nowrap\">The&nbsp;fire&nbsp;was&nbsp;spreading&nbsp;too&nbsp;<span class=\"diff_chg\">quickly</span>,&nbsp;the&nbsp;heat&nbsp;was&nbsp;intense,&nbsp;he&nbsp;had&nbsp;to&nbsp;leave&nbsp;or&nbsp;risk&nbsp;injury&nbsp;<span class=\"diff_sub\">h</span>i<span class=\"diff_chg\">m</span>self.&nbsp;Torren-Wraeth&nbsp;teleported&nbsp;away,&nbsp;leav<span class=\"diff_chg\">ing</span>&nbsp;the&nbsp;cleansing&nbsp;fire&nbsp;to&nbsp;it's&nbsp;work.</td><td class=\"diff_next\"><a href=\"#difflib_chg_to9__4\">n</a></td><td class=\"diff_header\" id=\"to9_26\">26</td><td nowrap=\"nowrap\">The&nbsp;fire&nbsp;was&nbsp;spreading&nbsp;too&nbsp;<span class=\"diff_chg\">fast</span>,&nbsp;the&nbsp;heat&nbsp;was&nbsp;intense,&nbsp;he&nbsp;had&nbsp;to&nbsp;leave&nbsp;or&nbsp;risk&nbsp;injury&nbsp;i<span class=\"diff_chg\">t</span>self.&nbsp;Torren-Wraeth&nbsp;teleported&nbsp;away,&nbsp;leav<span class=\"diff_chg\">e</span>&nbsp;the&nbsp;cleansing&nbsp;fire&nbsp;to&nbsp;it's&nbsp;work.</td></tr>\n",
       "            <tr><td class=\"diff_next\"></td><td class=\"diff_header\" id=\"from9_27\">27</td><td nowrap=\"nowrap\">He&nbsp;returned&nbsp;home.&nbsp;Not&nbsp;R'Lyeh,&nbsp;but&nbsp;Rapa&nbsp;Nui,&nbsp;which&nbsp;the&nbsp;white&nbsp;men&nbsp;called&nbsp;'Easter&nbsp;Island'.</td><td class=\"diff_next\"></td><td class=\"diff_header\" id=\"to9_27\">27</td><td nowrap=\"nowrap\">He&nbsp;returned&nbsp;home.&nbsp;Not&nbsp;R'Lyeh,&nbsp;but&nbsp;Rapa&nbsp;Nui,&nbsp;which&nbsp;the&nbsp;white&nbsp;men&nbsp;called&nbsp;'Easter&nbsp;Island'.</td></tr>\n",
       "            <tr><td class=\"diff_next\"></td><td class=\"diff_header\" id=\"from9_28\">28</td><td nowrap=\"nowrap\">He&nbsp;threw&nbsp;up,&nbsp;then&nbsp;wept...</td><td class=\"diff_next\"></td><td class=\"diff_header\" id=\"to9_28\">28</td><td nowrap=\"nowrap\">He&nbsp;threw&nbsp;up,&nbsp;then&nbsp;wept...</td></tr>\n",
       "            <tr><td class=\"diff_next\"></td><td class=\"diff_header\" id=\"from9_29\">29</td><td nowrap=\"nowrap\">Later,</td><td class=\"diff_next\"></td><td class=\"diff_header\" id=\"to9_29\">29</td><td nowrap=\"nowrap\">Later,</td></tr>\n",
       "            <tr><td class=\"diff_next\" id=\"difflib_chg_to9__5\"><a href=\"#difflib_chg_to9__5\">n</a></td><td class=\"diff_header\" id=\"from9_30\">30</td><td nowrap=\"nowrap\">Torren-Wraeth&nbsp;stood&nbsp;within&nbsp;an&nbsp;ancient&nbsp;quarry,&nbsp;partially&nbsp;carved&nbsp;Moai&nbsp;bearing&nbsp;mute&nbsp;witness&nbsp;to&nbsp;his&nbsp;words.&nbsp;\"No&nbsp;more!&nbsp;No&nbsp;more&nbsp;human&nbsp;sacrifices!\"&nbsp;He&nbsp;shouted&nbsp;at&nbsp;the&nbsp;<span class=\"diff_chg\">top</span>&nbsp;of&nbsp;his&nbsp;lung<span class=\"diff_chg\">s.</span>&nbsp;He&nbsp;didn't&nbsp;care&nbsp;about&nbsp;the&nbsp;<span class=\"diff_chg\">consequences.</span>&nbsp;He&nbsp;had&nbsp;ignored&nbsp;his&nbsp;conscience,&nbsp;his&nbsp;honor&nbsp;for&nbsp;<span class=\"diff_chg\">too&nbsp;long.</span></td><td class=\"diff_next\"><a href=\"#difflib_chg_to9__5\">n</a></td><td class=\"diff_header\" id=\"to9_30\">30</td><td nowrap=\"nowrap\">Torren-Wraeth&nbsp;stood&nbsp;within&nbsp;an&nbsp;ancient&nbsp;quarry,&nbsp;partially&nbsp;carved&nbsp;Moai&nbsp;bearing&nbsp;mute&nbsp;witness&nbsp;to&nbsp;his&nbsp;words.&nbsp;\"No&nbsp;more!&nbsp;No&nbsp;more&nbsp;human<span class=\"diff_add\">e</span>&nbsp;sacrifices!\"&nbsp;He&nbsp;shouted&nbsp;at&nbsp;the&nbsp;<span class=\"diff_chg\">upper</span>&nbsp;of&nbsp;his&nbsp;lung<span class=\"diff_chg\">.</span>&nbsp;He&nbsp;didn't&nbsp;care&nbsp;about&nbsp;the&nbsp;<span class=\"diff_chg\">implications.</span>&nbsp;He&nbsp;had&nbsp;ignored&nbsp;his&nbsp;conscience,&nbsp;his&nbsp;honor&nbsp;for&nbsp;<span class=\"diff_chg\">much&nbsp;too&nbsp;long.</span></td></tr>\n",
       "            <tr><td class=\"diff_next\"></td><td class=\"diff_header\" id=\"from9_31\">31</td><td nowrap=\"nowrap\">\"You&nbsp;go&nbsp;where&nbsp;you&nbsp;<span class=\"diff_chg\">a</span>re&nbsp;summoned!\"&nbsp;Great&nbsp;Cthulhu's&nbsp;telepathic&nbsp;voice,&nbsp;calling&nbsp;out&nbsp;from&nbsp;his&nbsp;body&nbsp;<span class=\"diff_chg\">in</span>&nbsp;R'Lyeh,&nbsp;registered&nbsp;rage&nbsp;at&nbsp;this&nbsp;defiance.</td><td class=\"diff_next\"></td><td class=\"diff_header\" id=\"to9_31\">31</td><td nowrap=\"nowrap\">\"You&nbsp;go&nbsp;where<span class=\"diff_add\">ver</span>&nbsp;you&nbsp;<span class=\"diff_chg\">'</span>re&nbsp;summoned!\"&nbsp;Great&nbsp;Cthulhu's&nbsp;telepathic&nbsp;voice,&nbsp;calling&nbsp;out&nbsp;from&nbsp;his&nbsp;body&nbsp;<span class=\"diff_chg\">of</span>&nbsp;R'Lyeh,&nbsp;registered&nbsp;rage&nbsp;at&nbsp;this&nbsp;defiance.</td></tr>\n",
       "            <tr><td class=\"diff_next\"></td><td class=\"diff_header\" id=\"from9_32\">32</td><td nowrap=\"nowrap\">\"Never&nbsp;again!\"&nbsp;Torren-Wraeth's&nbsp;voice&nbsp;was&nbsp;firm.&nbsp;He&nbsp;was&nbsp;ashamed&nbsp;that&nbsp;he&nbsp;had&nbsp;ever&nbsp;been&nbsp;party&nbsp;to&nbsp;such&nbsp;a&nbsp;thing,&nbsp;and&nbsp;he&nbsp;refused&nbsp;to&nbsp;do&nbsp;so&nbsp;again.&nbsp;His&nbsp;skin&nbsp;was&nbsp;blotched&nbsp;with&nbsp;conflicting&nbsp;emotion,&nbsp;\"You&nbsp;don't&nbsp;even&nbsp;ne<span class=\"diff_chg\">ed</span>&nbsp;sacrifices,&nbsp;<span class=\"diff_chg\">much&nbsp;less&nbsp;intelligent</span>&nbsp;ones!&nbsp;I&nbsp;won't&nbsp;help&nbsp;you&nbsp;commit&nbsp;murder,&nbsp;not&nbsp;anymore!\"</td><td class=\"diff_next\"></td><td class=\"diff_header\" id=\"to9_32\">32</td><td nowrap=\"nowrap\">\"Never&nbsp;again!\"&nbsp;Torren-Wraeth's&nbsp;voice&nbsp;was&nbsp;firm.&nbsp;He&nbsp;was&nbsp;ashamed&nbsp;that&nbsp;he&nbsp;had&nbsp;ever&nbsp;been&nbsp;party&nbsp;to&nbsp;such&nbsp;a&nbsp;thing,&nbsp;and&nbsp;he&nbsp;refused&nbsp;to&nbsp;do&nbsp;so<span class=\"diff_add\">&nbsp;once</span>&nbsp;again.&nbsp;His&nbsp;skin&nbsp;was&nbsp;blotched&nbsp;with&nbsp;conflicting&nbsp;emotion<span class=\"diff_add\">s</span>,&nbsp;\"You&nbsp;don't&nbsp;even&nbsp;ne<span class=\"diff_chg\">cessity</span>&nbsp;sacrifices,&nbsp;<span class=\"diff_chg\">far&nbsp;less&nbsp;intelligent</span>&nbsp;ones!&nbsp;I&nbsp;won't&nbsp;help&nbsp;you&nbsp;commit&nbsp;murder<span class=\"diff_add\">s</span>,&nbsp;not&nbsp;anymore!\"</td></tr>\n",
       "            <tr><td class=\"diff_next\"></td><td class=\"diff_header\" id=\"from9_33\">33</td><td nowrap=\"nowrap\">\"Who&nbsp;<span class=\"diff_sub\">are&nbsp;</span>you&nbsp;to&nbsp;judge&nbsp;me!?\"</td><td class=\"diff_next\"></td><td class=\"diff_header\" id=\"to9_33\">33</td><td nowrap=\"nowrap\">\"Who&nbsp;you&nbsp;<span class=\"diff_add\">'re&nbsp;</span>to&nbsp;judge&nbsp;me!?\"</td></tr>\n",
       "            <tr><td class=\"diff_next\"></td><td class=\"diff_header\" id=\"from9_34\">34</td><td nowrap=\"nowrap\">Torren-Wraeth&nbsp;fell&nbsp;silent.</td><td class=\"diff_next\"></td><td class=\"diff_header\" id=\"to9_34\">34</td><td nowrap=\"nowrap\">Torren-Wraeth&nbsp;fell&nbsp;silent.</td></tr>\n",
       "            <tr><td class=\"diff_next\"><a href=\"#difflib_chg_to9__top\">t</a></td><td class=\"diff_header\" id=\"from9_35\">35</td><td nowrap=\"nowrap\">Great&nbsp;Cthulhu&nbsp;sighed,&nbsp;his&nbsp;child&nbsp;was&nbsp;becoming&nbsp;sentimental,&nbsp;rebellious.&nbsp;It&nbsp;was&nbsp;his&nbsp;mother's&nbsp;blood,&nbsp;it&nbsp;could&nbsp;not&nbsp;be&nbsp;helped.&nbsp;Ever&nbsp;since&nbsp;he&nbsp;had&nbsp;befriended&nbsp;that&nbsp;human,&nbsp;he&nbsp;had&nbsp;become&nbsp;more&nbsp;like&nbsp;them...&nbsp;Still,&nbsp;it&nbsp;was&nbsp;a&nbsp;<span class=\"diff_chg\">small</span>&nbsp;thing.&nbsp;\"Very&nbsp;well,&nbsp;Torren-Wraeth,&nbsp;from&nbsp;now&nbsp;on&nbsp;you&nbsp;will&nbsp;never&nbsp;<span class=\"diff_chg\">represent&nbsp;me&nbsp;at&nbsp;a&nbsp;sentient&nbsp;sacri</span>f<span class=\"diff_chg\">ice</span>&nbsp;again.\"</td><td class=\"diff_next\"><a href=\"#difflib_chg_to9__top\">t</a></td><td class=\"diff_header\" id=\"to9_35\">35</td><td nowrap=\"nowrap\">Great&nbsp;Cthulhu&nbsp;sighed,&nbsp;his&nbsp;child&nbsp;was&nbsp;becoming&nbsp;sentimental,&nbsp;rebellious.&nbsp;It&nbsp;was&nbsp;his&nbsp;mother's&nbsp;blood,&nbsp;it&nbsp;could&nbsp;not&nbsp;be&nbsp;helped.&nbsp;Ever&nbsp;since&nbsp;he&nbsp;had&nbsp;befriended&nbsp;that&nbsp;human,&nbsp;he&nbsp;had&nbsp;become&nbsp;more&nbsp;like&nbsp;them...&nbsp;Still,&nbsp;it&nbsp;was&nbsp;a&nbsp;<span class=\"diff_chg\">little</span>&nbsp;thing.&nbsp;\"Very&nbsp;well,&nbsp;Torren-Wraeth,&nbsp;from&nbsp;now&nbsp;on&nbsp;you&nbsp;will&nbsp;never&nbsp;<span class=\"diff_chg\">account&nbsp;</span>f<span class=\"diff_chg\">or&nbsp;me&nbsp;at&nbsp;a&nbsp;sentient&nbsp;sacrifice</span>&nbsp;again.\"</td></tr>\n",
       "            <tr><td class=\"diff_next\"></td><td class=\"diff_header\" id=\"from9_36\">36</td><td nowrap=\"nowrap\">The&nbsp;boy&nbsp;knelt&nbsp;<span class=\"diff_chg\">qu</span>i<span class=\"diff_chg\">ck</span>ly,&nbsp;\"Thank&nbsp;you,&nbsp;father...\"</td><td class=\"diff_next\"></td><td class=\"diff_header\" id=\"to9_36\">36</td><td nowrap=\"nowrap\">The&nbsp;boy&nbsp;knelt&nbsp;<span class=\"diff_chg\">rap</span>i<span class=\"diff_chg\">d</span>ly,&nbsp;\"Thank&nbsp;you,&nbsp;father...\"</td></tr>\n",
       "            <tr><td class=\"diff_next\"></td><td class=\"diff_header\" id=\"from9_37\">37</td><td nowrap=\"nowrap\">\"Do&nbsp;not&nbsp;thank&nbsp;me&nbsp;yet,&nbsp;I&nbsp;ma<span class=\"diff_chg\">y</span>&nbsp;ask&nbsp;something&nbsp;of&nbsp;you&nbsp;<span class=\"diff_chg\">in</span>&nbsp;return.\"</td><td class=\"diff_next\"></td><td class=\"diff_header\" id=\"to9_37\">37</td><td nowrap=\"nowrap\">\"Do&nbsp;not&nbsp;thank<span class=\"diff_add\">ing</span>&nbsp;me&nbsp;yet,&nbsp;I&nbsp;ma<span class=\"diff_chg\">i</span>&nbsp;ask&nbsp;something&nbsp;of&nbsp;you&nbsp;<span class=\"diff_chg\">of</span>&nbsp;return.\"</td></tr>\n",
       "            <tr><td class=\"diff_next\"></td><td class=\"diff_header\" id=\"from9_38\">38</td><td nowrap=\"nowrap\">And&nbsp;Torren-Wraeth&nbsp;knew&nbsp;without&nbsp;a&nbsp;doubt&nbsp;that&nbsp;he&nbsp;would.</td><td class=\"diff_next\"></td><td class=\"diff_header\" id=\"to9_38\">38</td><td nowrap=\"nowrap\">And&nbsp;Torren-Wraeth&nbsp;knew&nbsp;without&nbsp;a&nbsp;doubt&nbsp;that&nbsp;he&nbsp;would.</td></tr>\n",
       "        </tbody>\n",
       "    </table>\n",
       "    <table class=\"diff\" summary=\"Legends\">\n",
       "        <tr> <th colspan=\"2\"> Legends </th> </tr>\n",
       "        <tr> <td> <table border=\"\" summary=\"Colors\">\n",
       "                      <tr><th> Colors </th> </tr>\n",
       "                      <tr><td class=\"diff_add\">&nbsp;Added&nbsp;</td></tr>\n",
       "                      <tr><td class=\"diff_chg\">Changed</td> </tr>\n",
       "                      <tr><td class=\"diff_sub\">Deleted</td> </tr>\n",
       "                  </table></td>\n",
       "             <td> <table border=\"\" summary=\"Links\">\n",
       "                      <tr><th colspan=\"2\"> Links </th> </tr>\n",
       "                      <tr><td>(f)irst change</td> </tr>\n",
       "                      <tr><td>(n)ext change</td> </tr>\n",
       "                      <tr><td>(t)op</td> </tr>\n",
       "                  </table></td> </tr>\n",
       "    </table>\n",
       "</body>\n",
       "\n",
       "</html>"
      ],
      "text/plain": [
       "<IPython.core.display.HTML object>"
      ]
     },
     "metadata": {},
     "output_type": "display_data"
    }
   ],
   "source": [
    "import difflib\n",
    "from IPython.core.display import display, HTML\n",
    "\n",
    "d = difflib.HtmlDiff()\n",
    "table = d.make_file(original_text.splitlines(), text.splitlines())\n",
    "\n",
    "\n",
    "display(HTML(table))"
   ]
  },
  {
   "cell_type": "code",
   "execution_count": null,
   "metadata": {
    "collapsed": true
   },
   "outputs": [],
   "source": []
  }
 ],
 "metadata": {
  "celltoolbar": "Raw Cell Format",
  "kernelspec": {
   "display_name": "Python 3",
   "language": "python",
   "name": "python3"
  },
  "language_info": {
   "codemirror_mode": {
    "name": "ipython",
    "version": 3
   },
   "file_extension": ".py",
   "mimetype": "text/x-python",
   "name": "python",
   "nbconvert_exporter": "python",
   "pygments_lexer": "ipython3",
   "version": "3.6.0"
  }
 },
 "nbformat": 4,
 "nbformat_minor": 2
}
