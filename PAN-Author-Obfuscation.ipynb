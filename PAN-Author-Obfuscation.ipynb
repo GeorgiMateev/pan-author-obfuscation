{
 "cells": [
  {
   "cell_type": "markdown",
   "metadata": {},
   "source": [
    "#### How to install package ####"
   ]
  },
  {
   "cell_type": "code",
   "execution_count": 3,
   "metadata": {
    "collapsed": false
   },
   "outputs": [
    {
     "name": "stdout",
     "output_type": "stream",
     "text": [
      "Requirement already satisfied: numpy in c:\\users\\mateev\\anaconda3\\lib\\site-packages\n"
     ]
    }
   ],
   "source": [
    "!pip install numpy"
   ]
  },
  {
   "cell_type": "markdown",
   "metadata": {},
   "source": [
    "#### How to import package ####"
   ]
  },
  {
   "cell_type": "code",
   "execution_count": 2,
   "metadata": {
    "collapsed": true
   },
   "outputs": [],
   "source": [
    "import numpy"
   ]
  },
  {
   "cell_type": "markdown",
   "metadata": {},
   "source": [
    "#### How to read a file ####"
   ]
  },
  {
   "cell_type": "code",
   "execution_count": 10,
   "metadata": {
    "collapsed": false
   },
   "outputs": [
    {
     "name": "stdout",
     "output_type": "stream",
     "text": [
      "﻿After the model has been conceptualized, coded, verified, and validated, it is ready to provide information\n",
      "through experimentation. Experimentation is the process of initializing key parameters in the model and\n",
      "setting up production runs to make inferences about the behavior of the system under study. The\n",
      "experimentation process consists of three steps:\n",
      "The first step in the experimentation process is experimental design. The term experimental design implies\n",
      "that an experiment is being designed or set up. This is done by identifying key parameters and initializing\n",
      "these parameters to values of interest. An example of an input parameter that could be the focus of an\n",
      "experiment is the number of doormen needed at the 21-Club (See section 6.3). The simulation could be\n",
      "initialized with either one or two doormen. Other issues that need to be resolved during the experimental\n",
      "design stage follow:\n",
      "A variable Z which can assume any value in the range (x,y) with equal probability is defined as being\n",
      "random (Figure 6.7). Random variables can be uniformly or non-uniformly distributed. They may be\n",
      "continuous or discrete. Random variables are selected by chance and are not influenced in any way by past\n",
      "values. Random numbers are widely used in experiments that are dependent upon chance. Examples of\n",
      "these are machine breakdowns, occurrences of rejected parts coming off an assembly line, and service\n",
      "times at an automatic teller machine.\n",
      "Random numbers can be generated in many different ways. The flip of a coin, drawing numbers from a\n",
      "hat, roulette wheels, and playing cards are examples of physical generation methods. The most common\n",
      "method of obtaining random numbers for use in the computer simulation field is through algebra. A\n",
      "number called a seed is selected and used to produce a sequence of numbers in the following manner\n",
      "(Figure 6.2):\n",
      "Although the resulting number stream from the preceding example is not truly random, if created properly,\n",
      "it will pass most tests for statistical randomness. Number streams generated through algebraic means are\n",
      "known as pseudo-random numbers. The use of pseudo-random number streams has several advantages\n",
      "over the use of true random numbers including:\n",
      "1. The sequence of numbers is reproducible. This means different versions of a program can be\n",
      "tested using the same input data.\n",
      "2. The streams can be generated quickly and efficiently for use in a simulation program.\n",
      "Although it is important to understand the concepts of random number generation and pseudo-random\n",
      "number streams, a simulation analyst will rarely have to create his or her own random number generator.\n",
      "Most simulation software products already have a built in means of creating pseudo-random numbers. As\n",
      "long as care in selecting a seed value (this is usually done for the analyst as well) is taken, very few\n",
      "problems should occur. However, this is not a topic to be taken too lightly. Without a reliable stream of\n",
      "random numbers, simulation results would be rendered invalid.\n",
      "Terminating simulations are models that represent a system that starts in a particular state and then\n",
      "terminates or ends after a fixed period of time or when a predetermined condition is reached. Terminating\n",
      "simulations are used to model particular manufacturing operations where the characteristics of the system\n",
      "startup are important to include or in situations where a specific period of time is being analyzed, like\n",
      "weekend ticket sales for a newly released movie. Terminating simulations study a system over a\n",
      "predefined time period like a shift, a day, or a week. An analyst using a terminating simulation makes no\n",
      "attempt to bring the model to a steady state or stable operating condition. Instead, model replications\n",
      "include all startup biases that might exist (as do most real world systems).\n",
      "It is important to remember that terminating simulations are still dependent on random samples from input\n",
      "distributions and each run must be treated as a single observation. This means replications using different\n",
      "random number seeds must be generated and used to compute a confidence interval or range likely to\n",
      "include the true value of the mean. Since terminating simulation runs produce output data exhibiting\n",
      "statistical independence, the analysis becomes easier.\n",
      "Steady state simulations are intended to examine a system from which startup and ending biases are\n",
      "removed. In other words, the analyst seeks to achieve a state in the model where conditions remain stable.\n",
      "While in many instances this might be less realistic than a terminating simulation, it can be useful in\n",
      "determining underlying characteristics of the system and filtering out the statistical noise. Two main\n",
      "challenges exist when developing a steady state simulation. The first is determining whether a steady state\n",
      "condition has been achieved. The second deals with statistical independence of the derived samples.\n",
      "Several techniques are used to deal with the first challenge. Almost every system experiences a period of\n",
      "time upon startup where resources are being acquired, customers are entering, or the initial stages of the\n",
      "system are in use while subsequent stages have not yet filled. These forces can result in a skewing of\n",
      "output statistics often called initial bias (See Figure 6.3). Several practical techniques are used to avoid the\n",
      "impact of startup bias. These include:\n",
      "1. A warm-up period is determined after which model statistics collection is restarted. Most\n",
      "simulation software packages have built-in the capability of resetting statistics. In a sense, this\n",
      "would represent throwing out all data collected to the left of the dark line in Figure 6.3 and only\n",
      "considering data after that point in time. The analyst may have to review the simulation results\n",
      "and decide when the model appears to have entered steady state.\n",
      "2. Initializing the model with a realistic, steady state condition of resource utilization and customers\n",
      "or other entities strategically placed within the model. This technique can work but must be\n",
      "verified as accurate and free of other forms of startup bias. Some researchers call this ‘preloading’\n",
      "and others call it priming the model.\n",
      "3. Data analysis can be used to remove the bias but this technique is rarely used.\n",
      "The second challenge is to ensure collected samples from the simulation are independent. In a steady state\n",
      "simulation, the current state of the model is dependent on the previous state. Therefore, independence\n",
      "cannot be assumed. In order to correct this problem, a series of simulation runs (often called replications)\n",
      "can be constructed in a way that collection of statistics is suspended between replications while the model\n",
      "runs in steady state. The resources and entities are not cleared, just the statistics.\n"
     ]
    }
   ],
   "source": [
    "text_file = open('train-data/problem-001/original.txt', 'r', encoding=\"utf8\")\n",
    "text = text_file.read()\n",
    "print (text)"
   ]
  },
  {
   "cell_type": "code",
   "execution_count": null,
   "metadata": {
    "collapsed": false
   },
   "outputs": [],
   "source": []
  },
  {
   "cell_type": "code",
   "execution_count": null,
   "metadata": {
    "collapsed": true
   },
   "outputs": [],
   "source": []
  }
 ],
 "metadata": {
  "kernelspec": {
   "display_name": "Python 3",
   "language": "python",
   "name": "python3"
  },
  "language_info": {
   "codemirror_mode": {
    "name": "ipython",
    "version": 3
   },
   "file_extension": ".py",
   "mimetype": "text/x-python",
   "name": "python",
   "nbconvert_exporter": "python",
   "pygments_lexer": "ipython3",
   "version": "3.6.0"
  }
 },
 "nbformat": 4,
 "nbformat_minor": 2
}
