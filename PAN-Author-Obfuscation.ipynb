{
 "cells": [
  {
   "cell_type": "markdown",
   "metadata": {},
   "source": [
    "#### How to install package ####"
   ]
  },
  {
   "cell_type": "code",
   "execution_count": 61,
   "metadata": {
    "collapsed": false
   },
   "outputs": [
    {
     "name": "stdout",
     "output_type": "stream",
     "text": [
      "Requirement already satisfied: numpy in c:\\users\\mateev\\anaconda3\\lib\\site-packages\n"
     ]
    }
   ],
   "source": [
    "!pip install numpy"
   ]
  },
  {
   "cell_type": "markdown",
   "metadata": {},
   "source": [
    "#### How to import package ####"
   ]
  },
  {
   "cell_type": "code",
   "execution_count": 62,
   "metadata": {
    "collapsed": true
   },
   "outputs": [],
   "source": [
    "from collections import defaultdict"
   ]
  },
  {
   "cell_type": "markdown",
   "metadata": {},
   "source": [
    "#### How to read a file ####"
   ]
  },
  {
   "cell_type": "code",
   "execution_count": 63,
   "metadata": {
    "collapsed": false
   },
   "outputs": [
    {
     "name": "stdout",
     "output_type": "stream",
     "text": [
      "﻿After the model has been conceptualized, coded, verified, and validated, it is ready to provide information\n",
      "through experimentation. Experimentation is the process of initializing key parameters in the model and\n",
      "setting up production runs to make inferences about the behavior of the system under study. The\n",
      "experimentation process consists of three steps:\n",
      "The first step in the experimentation process is experimental design. The term experimental design implies\n",
      "that an experiment is being designed or set up. This is done by identifying key parameters and initializing\n",
      "these parameters to values of interest. An example of an input parameter that could be the focus of an\n",
      "experiment is the number of doormen needed at the 21-Club (See section 6.3). The simulation could be\n",
      "initialized with either one or two doormen. Other issues that need to be resolved during the experimental\n",
      "design stage follow:\n",
      "A variable Z which can assume any value in the range (x,y) with equal probability is defined as being\n",
      "random (Figure 6.7). Random variables can be uniformly or non-uniformly distributed. They may be\n",
      "continuous or discrete. Random variables are selected by chance and are not influenced in any way by past\n",
      "values. Random numbers are widely used in experiments that are dependent upon chance. Examples of\n",
      "these are machine breakdowns, occurrences of rejected parts coming off an assembly line, and service\n",
      "times at an automatic teller machine.\n",
      "Random numbers can be generated in many different ways. The flip of a coin, drawing numbers from a\n",
      "hat, roulette wheels, and playing cards are examples of physical generation methods. The most common\n",
      "method of obtaining random numbers for use in the computer simulation field is through algebra. A\n",
      "number called a seed is selected and used to produce a sequence of numbers in the following manner\n",
      "(Figure 6.2):\n",
      "Although the resulting number stream from the preceding example is not truly random, if created properly,\n",
      "it will pass most tests for statistical randomness. Number streams generated through algebraic means are\n",
      "known as pseudo-random numbers. The use of pseudo-random number streams has several advantages\n",
      "over the use of true random numbers including:\n",
      "1. The sequence of numbers is reproducible. This means different versions of a program can be\n",
      "tested using the same input data.\n",
      "2. The streams can be generated quickly and efficiently for use in a simulation program.\n",
      "Although it is important to understand the concepts of random number generation and pseudo-random\n",
      "number streams, a simulation analyst will rarely have to create his or her own random number generator.\n",
      "Most simulation software products already have a built in means of creating pseudo-random numbers. As\n",
      "long as care in selecting a seed value (this is usually done for the analyst as well) is taken, very few\n",
      "problems should occur. However, this is not a topic to be taken too lightly. Without a reliable stream of\n",
      "random numbers, simulation results would be rendered invalid.\n",
      "Terminating simulations are models that represent a system that starts in a particular state and then\n",
      "terminates or ends after a fixed period of time or when a predetermined condition is reached. Terminating\n",
      "simulations are used to model particular manufacturing operations where the characteristics of the system\n",
      "startup are important to include or in situations where a specific period of time is being analyzed, like\n",
      "weekend ticket sales for a newly released movie. Terminating simulations study a system over a\n",
      "predefined time period like a shift, a day, or a week. An analyst using a terminating simulation makes no\n",
      "attempt to bring the model to a steady state or stable operating condition. Instead, model replications\n",
      "include all startup biases that might exist (as do most real world systems).\n",
      "It is important to remember that terminating simulations are still dependent on random samples from input\n",
      "distributions and each run must be treated as a single observation. This means replications using different\n",
      "random number seeds must be generated and used to compute a confidence interval or range likely to\n",
      "include the true value of the mean. Since terminating simulation runs produce output data exhibiting\n",
      "statistical independence, the analysis becomes easier.\n",
      "Steady state simulations are intended to examine a system from which startup and ending biases are\n",
      "removed. In other words, the analyst seeks to achieve a state in the model where conditions remain stable.\n",
      "While in many instances this might be less realistic than a terminating simulation, it can be useful in\n",
      "determining underlying characteristics of the system and filtering out the statistical noise. Two main\n",
      "challenges exist when developing a steady state simulation. The first is determining whether a steady state\n",
      "condition has been achieved. The second deals with statistical independence of the derived samples.\n",
      "Several techniques are used to deal with the first challenge. Almost every system experiences a period of\n",
      "time upon startup where resources are being acquired, customers are entering, or the initial stages of the\n",
      "system are in use while subsequent stages have not yet filled. These forces can result in a skewing of\n",
      "output statistics often called initial bias (See Figure 6.3). Several practical techniques are used to avoid the\n",
      "impact of startup bias. These include:\n",
      "1. A warm-up period is determined after which model statistics collection is restarted. Most\n",
      "simulation software packages have built-in the capability of resetting statistics. In a sense, this\n",
      "would represent throwing out all data collected to the left of the dark line in Figure 6.3 and only\n",
      "considering data after that point in time. The analyst may have to review the simulation results\n",
      "and decide when the model appears to have entered steady state.\n",
      "2. Initializing the model with a realistic, steady state condition of resource utilization and customers\n",
      "or other entities strategically placed within the model. This technique can work but must be\n",
      "verified as accurate and free of other forms of startup bias. Some researchers call this ‘preloading’\n",
      "and others call it priming the model.\n",
      "3. Data analysis can be used to remove the bias but this technique is rarely used.\n",
      "The second challenge is to ensure collected samples from the simulation are independent. In a steady state\n",
      "simulation, the current state of the model is dependent on the previous state. Therefore, independence\n",
      "cannot be assumed. In order to correct this problem, a series of simulation runs (often called replications)\n",
      "can be constructed in a way that collection of statistics is suspended between replications while the model\n",
      "runs in steady state. The resources and entities are not cleared, just the statistics.\n"
     ]
    }
   ],
   "source": [
    "text_file = open('train-data/problem-001/original.txt', 'r', encoding=\"utf8\")\n",
    "text = text_file.read()\n",
    "print (text)"
   ]
  },
  {
   "cell_type": "markdown",
   "metadata": {},
   "source": [
    "# Obfuscation methods #"
   ]
  },
  {
   "cell_type": "markdown",
   "metadata": {},
   "source": [
    "### Paraphrase function ###"
   ]
  },
  {
   "cell_type": "code",
   "execution_count": 64,
   "metadata": {
    "collapsed": false
   },
   "outputs": [],
   "source": [
    "paraphrase_dictionary = defaultdict(dict)\n",
    "with open('./dictionaries/phrasal-corpus.txt', 'r', encoding='utf-8') as f:\n",
    "    s = f.read()\n",
    "    temp = s.splitlines()\n",
    "    for x in temp:\n",
    "        split = x.split(' - ')\n",
    "        paraphrase_dictionary[split[0]] = split[1]\n",
    "        \n",
    "\n",
    "def paraphrase(text):\n",
    "    text_size = len(text.split(' '))\n",
    "    used_phrases = []\n",
    "    for key, value in paraphrase_dictionary.items():\n",
    "        augmented_key = ' ' + key + ' '\n",
    "        if augmented_key in text and augmented_key not in used_phrases:\n",
    "            print('----- Replaced: >' + key + '< with >' + value)\n",
    "            augmented_value = ' ' + value + ' '\n",
    "            text = text.replace(augmented_key, augmented_value)\n",
    "            used_phrases.append(augmented_value)\n",
    "            \n",
    "    change_metric = len(used_phrases) / text_size\n",
    "    print (\"Change metric (number of replaces / number of text words: )\" + str(change_metric))\n",
    "    return text, change_metric"
   ]
  },
  {
   "cell_type": "markdown",
   "metadata": {
    "collapsed": true
   },
   "source": [
    "# Pipeline #"
   ]
  },
  {
   "cell_type": "code",
   "execution_count": 65,
   "metadata": {
    "collapsed": false
   },
   "outputs": [
    {
     "name": "stdout",
     "output_type": "stream",
     "text": [
      "----- Replaced: >world< with >international\n",
      "----- Replaced: >as accurate and< with >as precise and\n",
      "----- Replaced: >movie.< with >film.\n",
      "----- Replaced: >often called< with >often referred to as\n",
      "----- Replaced: >examples of< with >arrangements of\n",
      "----- Replaced: >design< with >conception\n",
      "----- Replaced: >a particular state< with >a given state\n",
      "----- Replaced: >review< with >consideration\n",
      "----- Replaced: >tests< with >testing\n",
      "----- Replaced: >equal< with >equality\n",
      "----- Replaced: >is rarely< with >is seldom\n",
      "----- Replaced: >a week.< with >per week.\n",
      "----- Replaced: >chance.< with >luck.\n",
      "----- Replaced: >program< with >programme\n",
      "----- Replaced: >remove the< with >removing the\n",
      "----- Replaced: >ready to< with >willing to\n",
      "----- Replaced: >a programme< with >a program\n",
      "----- Replaced: >given state< with >particular state\n",
      "----- Replaced: >as precise< with >as specific\n",
      "----- Replaced: >removing< with >remove\n",
      "----- Replaced: >appears to have< with >seems to have\n",
      "----- Replaced: >important to remember that< with >important to bear in mind that\n",
      "----- Replaced: >built in< with >constructed in\n",
      "----- Replaced: >selected by< with >chosen by\n",
      "----- Replaced: >probability is< with >likelihood is\n",
      "----- Replaced: >many instances< with >many cases\n",
      "----- Replaced: >in many cases< with >in many instances\n",
      "----- Replaced: >the current state of the< with >the current status of the\n",
      "----- Replaced: >interest.< with >interests.\n",
      "----- Replaced: >products< with >proceeds\n",
      "----- Replaced: >willing to provide< with >ready to provide\n",
      "----- Replaced: >current status of the< with >current situation of the\n",
      "----- Replaced: >of interests.< with >of interest.\n",
      "----- Replaced: >a day,< with >per day,\n",
      "----- Replaced: >customers are< with >clients are\n",
      "----- Replaced: >it is important to understand< with >it is important to realise\n",
      "----- Replaced: >used to produce< with >used to generate\n",
      "----- Replaced: >field< with >zone\n",
      "----- Replaced: >every system< with >each system\n",
      "----- Replaced: >cards are< with >charts are\n",
      "----- Replaced: >operations< with >transactions\n",
      "----- Replaced: >clients< with >customers\n",
      "----- Replaced: >be resolved< with >be solved\n",
      "----- Replaced: >arrangements< with >examples\n",
      "----- Replaced: >the true value< with >the real value\n",
      "----- Replaced: >quickly and efficiently< with >quickly and effectively\n",
      "----- Replaced: >issues< with >questions\n",
      "----- Replaced: >the real< with >the true\n",
      "----- Replaced: >quickly and< with >swiftly and\n",
      "----- Replaced: >distributed.< with >circulated.\n",
      "----- Replaced: >the true value of< with >the real value of\n",
      "----- Replaced: >is reached.< with >is achieved.\n",
      "----- Replaced: >need< with >necessity\n",
      "----- Replaced: >may< with >mai\n",
      "----- Replaced: >example< with >sample\n",
      "----- Replaced: >important to bear in< with >important to take into\n",
      "----- Replaced: >characteristics of the< with >features of the\n",
      "----- Replaced: >selected and< with >chosen and\n",
      "----- Replaced: >consideration the< with >account the\n",
      "----- Replaced: >is ready to< with >stands ready to\n",
      "----- Replaced: >are chosen< with >are selected\n",
      "----- Replaced: >in< with >of\n",
      "----- Replaced: >ensure< with >ensuring\n",
      "----- Replaced: >determining whether a< with >determine if a\n",
      "----- Replaced: >the left of< with >the left side of\n",
      "----- Replaced: >streams,< with >creeks,\n",
      "----- Replaced: >program can< with >programme can\n",
      "----- Replaced: >state of< with >rule of\n",
      "----- Replaced: >a simulation< with >a simulated\n",
      "----- Replaced: >are selected by< with >are chosen by\n",
      "----- Replaced: >be useful< with >be helpful\n",
      "----- Replaced: >analyzed,< with >analysed,\n",
      "----- Replaced: >widely used< with >used extensively\n",
      "----- Replaced: >of a programme< with >of a program\n",
      "----- Replaced: >and each< with >and every\n",
      "----- Replaced: >the mean.< with >the average.\n",
      "----- Replaced: >the concepts of< with >the notions of\n",
      "----- Replaced: >different ways.< with >various ways.\n",
      "----- Replaced: >consists of three< with >comprises three\n",
      "----- Replaced: >key parameters< with >the basic parameters\n",
      "----- Replaced: >initial stages of< with >early stages of\n",
      "----- Replaced: >the early stages of< with >the earliest stages of\n",
      "----- Replaced: >stands ready to provide< with >is ready to provide\n",
      "----- Replaced: >call< with >appeal\n",
      "----- Replaced: >numbers are< with >figures are\n",
      "----- Replaced: >each< with >every\n",
      "----- Replaced: >restarted.< with >restart.\n",
      "----- Replaced: >numbers.< with >figures.\n",
      "----- Replaced: >the features of the< with >the characteristics of the\n",
      "----- Replaced: >resource utilization< with >the use of resources\n",
      "----- Replaced: >is ready< with >stands ready\n",
      "----- Replaced: >with the first< with >with the prime\n",
      "----- Replaced: >developing< with >development of\n",
      "----- Replaced: >startup and< with >startup and\n",
      "----- Replaced: >model< with >sample\n",
      "----- Replaced: >left side of< with >left end of\n",
      "----- Replaced: >rule< with >article\n",
      "----- Replaced: >still< with >always\n",
      "----- Replaced: >data collected< with >data gathered\n",
      "----- Replaced: >design.< with >conception.\n",
      "----- Replaced: >a specific period< with >a specified period\n",
      "----- Replaced: >a sense,< with >a certain sense,\n",
      "----- Replaced: >observation.< with >comment.\n",
      "----- Replaced: >been achieved.< with >been reached.\n",
      "----- Replaced: >achieved.< with >obtained.\n",
      "----- Replaced: >reached.< with >achieved.\n",
      "----- Replaced: >and filtering< with >and filter\n",
      "----- Replaced: >stages of< with >phases of\n",
      "----- Replaced: >end of< with >conclusion of\n",
      "----- Replaced: >specific and< with >concrete and\n",
      "----- Replaced: >is dependent on the< with >depends on the\n",
      "----- Replaced: >use of resources< with >utilization of resources\n",
      "----- Replaced: >provide< with >providing\n",
      "----- Replaced: >is important to realise< with >is important to recognise\n",
      "----- Replaced: >a way that< with >a manner that\n",
      "----- Replaced: >is the< with >'s the\n",
      "----- Replaced: >notions of< with >concepts of\n",
      "----- Replaced: >'s the number< with >is currently number\n",
      "----- Replaced: >time.< with >times.\n",
      "----- Replaced: >different versions< with >various versions\n",
      "----- Replaced: >is usually< with >is generally\n",
      "----- Replaced: >has been achieved.< with >has been reached.\n",
      "----- Replaced: >account< with >accounting\n",
      "----- Replaced: >be the focus< with >be at the centre\n",
      "----- Replaced: >not yet< with >still not\n",
      "----- Replaced: >important to take< with >important to bear\n",
      "----- Replaced: >after a< with >following a\n",
      "----- Replaced: >state< with >status\n",
      "----- Replaced: >represent< with >account for\n",
      "----- Replaced: >the centre< with >the center\n",
      "----- Replaced: >the current situation of the< with >the current status of the\n",
      "----- Replaced: >the behavior of< with >the behaviour of\n",
      "----- Replaced: >and effectively< with >and effective\n",
      "----- Replaced: >experiment is< with >experience is\n",
      "----- Replaced: >section< with >article\n",
      "----- Replaced: >while the< with >although the\n",
      "----- Replaced: >challenge is to< with >challenge lies in\n",
      "----- Replaced: >operating< with >operation\n",
      "----- Replaced: >mind that< with >account that\n",
      "----- Replaced: >characteristics of< with >features of\n",
      "----- Replaced: >although< with >though\n",
      "----- Replaced: >system and< with >systems and\n",
      "----- Replaced: >time or< with >time nor\n",
      "----- Replaced: >the features of< with >the characteristics of\n",
      "----- Replaced: >just the< with >only the\n",
      "----- Replaced: >the dark< with >the darkness\n",
      "----- Replaced: >number< with >issue\n",
      "----- Replaced: >to recognise the< with >to recognize the\n",
      "----- Replaced: >generally< with >in general\n",
      "----- Replaced: >to remove< with >to eliminate\n",
      "----- Replaced: >general< with >general comments\n",
      "----- Replaced: >depends on< with >is dependent on\n",
      "----- Replaced: >the characteristics< with >the features\n",
      "----- Replaced: >prime< with >the first\n",
      "----- Replaced: >be constructed< with >be built\n",
      "----- Replaced: >not a< with >n't a\n",
      "----- Replaced: >first< with >1st\n",
      "----- Replaced: >the concepts< with >the notions\n",
      "----- Replaced: >numbers,< with >figures,\n",
      "----- Replaced: >following< with >after\n",
      "----- Replaced: >most< with >the majority\n",
      "----- Replaced: >can be helpful< with >can be useful\n",
      "----- Replaced: >is n't a< with >'s not a\n",
      "----- Replaced: >several< with >multiple\n",
      "----- Replaced: >experiments that< with >experiences that\n",
      "----- Replaced: >by identifying< with >through the identification\n",
      "----- Replaced: >gathered to< with >came together to\n",
      "----- Replaced: >acquired,< with >acquis,\n",
      "----- Replaced: >occur.< with >arise.\n",
      "----- Replaced: >status of the< with >state of the\n",
      "----- Replaced: >the behaviour of the< with >the behavior of the\n",
      "----- Replaced: >to correct< with >to rectify\n",
      "----- Replaced: >status and< with >statute and\n",
      "----- Replaced: >a series of< with >a set of\n",
      "----- Replaced: >set of< with >series of\n",
      "----- Replaced: >already have a< with >already got a\n",
      "----- Replaced: >to compute< with >to calculate\n",
      "----- Replaced: >'s not< with >is not\n",
      "----- Replaced: >stage< with >: step\n",
      "----- Replaced: >and used< with >and utilized\n",
      "----- Replaced: >the utilization of resources< with >the use of resources\n",
      "----- Replaced: >ready< with >loans\n",
      "----- Replaced: >between< with >among\n",
      "Change metric (number of replaces / number of text words: )0.18281718281718282\n"
     ]
    }
   ],
   "source": [
    "text, paraphrase_metric = paraphrase(text)"
   ]
  },
  {
   "cell_type": "markdown",
   "metadata": {},
   "source": [
    "# Print results #"
   ]
  },
  {
   "cell_type": "code",
   "execution_count": 66,
   "metadata": {
    "collapsed": false
   },
   "outputs": [
    {
     "name": "stdout",
     "output_type": "stream",
     "text": [
      "﻿After the sample has been conceptualized, coded, verified, and validated, it stands loans to providing information\n",
      "through experimentation. Experimentation 's the process of initializing the basic parameters of the sample and\n",
      "setting up production runs to make inferences about the behavior of the system under study. The\n",
      "experimentation process comprises three steps:\n",
      "The 1st step of the experimentation process is experimental conception. The term experimental conception implies\n",
      "that an experience is being designed or set up. This is done through the identification the basic parameters and initializing\n",
      "these parameters to values of interest. An sample of an input parameter that could be at the center of an\n",
      "experiment is currently issue of doormen needed at the 21-Club (See article 6.3). The simulation could be\n",
      "initialized with either one or two doormen. Other questions that necessity to be solved during the experimental\n",
      "design : step follow:\n",
      "A variable Z which can assume any value of the range (x,y) with equality likelihood is defined as being\n",
      "random (Figure 6.7). Random variables can be uniformly or non-uniformly circulated. They mai be\n",
      "continuous or discrete. Random variables are chosen by chance and are not influenced of any way by past\n",
      "values. Random figures are used extensively of experiences that are dependent upon luck. Examples of\n",
      "these are machine breakdowns, occurrences of rejected parts coming off an assembly line, and service\n",
      "times at an automatic teller machine.\n",
      "Random numbers can be generated of many various ways. The flip of a coin, drawing numbers from a\n",
      "hat, roulette wheels, and playing charts are examples of physical generation methods. The the majority common\n",
      "method of obtaining random numbers for use of the computer simulation zone is through algebra. A\n",
      "number called a seed is chosen and utilized to generate a sequence of numbers of the after manner\n",
      "(Figure 6.2):\n",
      "Although the resulting issue stream from the preceding sample is not truly random, if created properly,\n",
      "it will pass the majority testing for statistical randomness. Number streams generated through algebraic means are\n",
      "known as pseudo-random figures. The use of pseudo-random issue streams has multiple advantages\n",
      "over the use of true random numbers including:\n",
      "1. The sequence of numbers is reproducible. This means various versions of a program can be\n",
      "tested using the same input data.\n",
      "2. The streams can be generated swiftly and effective for use of a simulated program.\n",
      "Although it is important to recognize the notions of random issue generation and pseudo-random\n",
      "number creeks, a simulated analyst will rarely have to create his or her own random issue generator.\n",
      "Most simulation software proceeds already got a constructed of means of creating pseudo-random figures. As\n",
      "long as care of selecting a seed value (this is in general comments done for the analyst as well) is taken, very few\n",
      "problems should arise. However, this is not a topic to be taken too lightly. Without a reliable stream of\n",
      "random figures, simulation results would be rendered invalid.\n",
      "Terminating simulations are models that account for a system that starts of a particular statute and then\n",
      "terminates or ends after a fixed period of time nor when a predetermined condition is obtained. Terminating\n",
      "simulations are used to sample particular manufacturing transactions where the features of the system\n",
      "startup are important to include or of situations where a specified period of time is being analysed, like\n",
      "weekend ticket sales for a newly released film. Terminating simulations study a system over a\n",
      "predefined time period like a shift, per day, or per week. An analyst using a terminating simulation makes no\n",
      "attempt to bring the sample to a steady status or stable operation condition. Instead, sample replications\n",
      "include all startup biases that might exist (as do the majority real international systems).\n",
      "It is important to bear into account that terminating simulations are always dependent on random samples from input\n",
      "distributions and every run must be treated as a single comment. This means replications using different\n",
      "random issue seeds must be generated and utilized to calculate a confidence interval or range likely to\n",
      "include the real value of the average. Since terminating simulation runs produce output data exhibiting\n",
      "statistical independence, the analysis becomes easier.\n",
      "Steady status simulations are intended to examine a system from which startup and ending biases are\n",
      "removed. In other words, the analyst seeks to achieve a article of the sample where conditions remain stable.\n",
      "While of many instances this might be less realistic than a terminating simulation, it can be useful in\n",
      "determining underlying features of the systems and filter out the statistical noise. Two main\n",
      "challenges exist when development of a steady status simulation. The 1st is determine if a steady state\n",
      "condition has been reached. The second deals with statistical independence of the derived samples.\n",
      "Several techniques are used to deal with the the 1st challenge. Almost every system experiences a period of\n",
      "time upon startup where resources are being acquis, customers are entering, or the earliest phases of the\n",
      "system are of use while subsequent stages have still not filled. These forces can result of a skewing of\n",
      "output statistics often referred to as initial bias (See Figure 6.3). Several practical techniques are used to avoid the\n",
      "impact of startup bias. These include:\n",
      "1. A warm-up period is determined after which sample statistics collection is restart. Most\n",
      "simulation software packages have built-in the capability of resetting statistics. In a certain sense, this\n",
      "would account for throwing out all data came together to the left conclusion of the darkness line of Figure 6.3 and only\n",
      "considering data after that point of times. The analyst mai have to accounting the simulation results\n",
      "and decide when the sample seems to have entered steady state.\n",
      "2. Initializing the sample with a realistic, steady status condition of the use of resources and customers\n",
      "or other entities strategically placed within the model. This technique can work but must be\n",
      "verified as concrete and free of other forms of startup bias. Some researchers appeal this ‘preloading’\n",
      "and others appeal it priming the model.\n",
      "3. Data analysis can be used to eliminate the bias but this technique is seldom used.\n",
      "The second challenge lies in ensuring collected samples from the simulation are independent. In a steady state\n",
      "simulation, the current state of the sample is dependent on the previous state. Therefore, independence\n",
      "cannot be assumed. In order to rectify this problem, a series of simulation runs (often called replications)\n",
      "can be built of a manner that collection of statistics is suspended among replications though the model\n",
      "runs of steady state. The resources and entities are not cleared, only the statistics.\n"
     ]
    }
   ],
   "source": [
    "print(text)"
   ]
  },
  {
   "cell_type": "code",
   "execution_count": null,
   "metadata": {
    "collapsed": true
   },
   "outputs": [],
   "source": []
  }
 ],
 "metadata": {
  "kernelspec": {
   "display_name": "Python 3",
   "language": "python",
   "name": "python3"
  },
  "language_info": {
   "codemirror_mode": {
    "name": "ipython",
    "version": 3
   },
   "file_extension": ".py",
   "mimetype": "text/x-python",
   "name": "python",
   "nbconvert_exporter": "python",
   "pygments_lexer": "ipython3",
   "version": "3.6.0"
  }
 },
 "nbformat": 4,
 "nbformat_minor": 2
}
